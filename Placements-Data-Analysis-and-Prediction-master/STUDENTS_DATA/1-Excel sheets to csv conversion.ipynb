{
 "cells": [
  {
   "cell_type": "code",
   "execution_count": 1,
   "id": "selective-yukon",
   "metadata": {},
   "outputs": [],
   "source": [
    "import numpy as np\n",
    "import pandas as pd"
   ]
  },
  {
   "cell_type": "markdown",
   "id": "requested-affect",
   "metadata": {},
   "source": [
    "# CONVERTING EXCEL SHEETS TO "
   ]
  },
  {
   "cell_type": "markdown",
   "id": "signal-singapore",
   "metadata": {},
   "source": [
    "## 2010"
   ]
  },
  {
   "cell_type": "code",
   "execution_count": 18,
   "id": "living-kernel",
   "metadata": {},
   "outputs": [],
   "source": [
    "pd.read_excel('datasetsexcel/10/BIOTECH.xlsx',sheet_name='PLACEMENT PROFILE').to_csv('datasets2/10/BIOTECH.csv',index=None)\n",
    "pd.read_excel('datasetsexcel/10/CHEM.xlsx',sheet_name='PLACEMENT PROFILE').to_csv('datasets2/10/CHEM.csv',index=None)\n",
    "pd.read_excel('datasetsexcel/10/CIVIL.xlsx',sheet_name='PLACEMENT PROFILE').to_csv('datasets2/10/CIVIL.csv',index=None)\n",
    "pd.read_excel('datasetsexcel/10/CSE1.xlsx',sheet_name='PLACEMENT PROFILE').to_csv('datasets2/10/CSE1.csv',index=None)\n",
    "pd.read_excel('datasetsexcel/10/CSE2.xlsx',sheet_name='PLACEMENT PROFILE').to_csv('datasets2/10/CSE2.csv',index=None)\n",
    "pd.read_excel('datasetsexcel/10/ECE1.xlsx',sheet_name='PLACEMENT PROFILE').to_csv('datasets2/10/ECE1.csv',index=None)\n",
    "pd.read_excel('datasetsexcel/10/ECE2.xlsx',sheet_name='PLACEMENT PROFILE').to_csv('datasets2/10/ECE2.csv',index=None)\n",
    "pd.read_excel('datasetsexcel/10/EEE.xlsx',sheet_name='PLACEMENT PROFILE').to_csv('datasets2/10/EEE.csv',index=None)\n",
    "pd.read_excel('datasetsexcel/10/IT.xlsx',sheet_name='PLACEMENT PROFILE').to_csv('datasets2/10/IT.csv',index=None)\n",
    "pd.read_excel('datasetsexcel/10/MECH.xlsx',sheet_name='PLACEMENT PROFILE').to_csv('datasets2/10/MECH.csv',index=None)\n",
    "pd.read_excel('datasetsexcel/10/PROD.xlsx',sheet_name='PLACEMENT PROFILE').to_csv('datasets2/10/PROD.csv',index=None)"
   ]
  },
  {
   "cell_type": "markdown",
   "id": "cutting-summary",
   "metadata": {},
   "source": [
    "## 2012"
   ]
  },
  {
   "cell_type": "code",
   "execution_count": 23,
   "id": "greenhouse-africa",
   "metadata": {},
   "outputs": [],
   "source": [
    "pd.read_excel('datasetsexcel/12/BIOTECH.xlsx',sheet_name='COMPANY WISE PLACED').to_csv('datasets2/12/BIOTECH.csv',index=None)\n",
    "pd.read_excel('datasetsexcel/12/CHEM.xlsx',sheet_name='COMPANY WISE PLACED').to_csv('datasets2/12/CHEM.csv',index=None)\n",
    "pd.read_excel('datasetsexcel/12/CIVIL.xlsx',sheet_name='COMPANY WISE PLACED').to_csv('datasets2/12/CIVIL.csv',index=None)\n",
    "pd.read_excel('datasetsexcel/12/CSE1.xlsx',sheet_name='COMPANY WISE PLACED').to_csv('datasets2/12/CSE1.csv',index=None)\n",
    "pd.read_excel('datasetsexcel/12/CSE2.xlsx',sheet_name='COMPANY WISE PLACED').to_csv('datasets2/12/CSE2.csv',index=None)\n",
    "pd.read_excel('datasetsexcel/12/ECE1.xlsx',sheet_name='COMPANY WISE PLACED').to_csv('datasets2/12/ECE1.csv',index=None)\n",
    "pd.read_excel('datasetsexcel/12/ECE2.xlsx',sheet_name='COMPANY WISE PLACED').to_csv('datasets2/12/ECE2.csv',index=None)\n",
    "pd.read_excel('datasetsexcel/12/EEE.xlsx',sheet_name='COMPANY WISE PLACED').to_csv('datasets2/12/EEE.csv',index=None)\n",
    "pd.read_excel('datasetsexcel/12/IT.xlsx',sheet_name='COMPANY WISE PLACED').to_csv('datasets2/12/IT.csv',index=None)\n",
    "pd.read_excel('datasetsexcel/12/MECH.xlsx',sheet_name='COMPANY WISE PLACED').to_csv('datasets2/12/MECH.csv',index=None)\n",
    "pd.read_excel('datasetsexcel/12/PROD.xlsx',sheet_name='COMPANY WISE PLACED').to_csv('datasets2/12/PROD.csv',index=None)"
   ]
  },
  {
   "cell_type": "markdown",
   "id": "atmospheric-modeling",
   "metadata": {},
   "source": [
    "## 2013"
   ]
  },
  {
   "cell_type": "code",
   "execution_count": 27,
   "id": "cosmetic-biography",
   "metadata": {},
   "outputs": [],
   "source": [
    "pd.read_excel('datasetsexcel/13/BIOTECH.xlsx',sheet_name='PLACEMENT PROFILE').to_csv('datasets2/13/BIOTECH.csv',index=None)\n",
    "pd.read_excel('datasetsexcel/13/CHEM.xlsx',sheet_name='PLACEMENT PROFILE').to_csv('datasets2/13/CHEM.csv',index=None)\n",
    "pd.read_excel('datasetsexcel/13/CIVIL.xlsx',sheet_name='PLACEMENT PROFILE').to_csv('datasets2/13/CIVIL.csv',index=None)\n",
    "pd.read_excel('datasetsexcel/13/CSE1.xlsx',sheet_name='PLACEMENT PROFILE').to_csv('datasets2/13/CSE1.csv',index=None)\n",
    "pd.read_excel('datasetsexcel/13/CSE2.xlsx',sheet_name='PLACEMENT PROFILE').to_csv('datasets2/13/CSE2.csv',index=None)\n",
    "pd.read_excel('datasetsexcel/13/ECE1.xlsx',sheet_name='PLACEMENT PROFILE').to_csv('datasets2/13/ECE1.csv',index=None)\n",
    "pd.read_excel('datasetsexcel/13/ECE2.xlsx',sheet_name='PLACEMENT PROFILE').to_csv('datasets2/13/ECE2.csv',index=None)\n",
    "pd.read_excel('datasetsexcel/13/EEE.xlsx',sheet_name='PLACEMENT PROFILE').to_csv('datasets2/13/EEE.csv',index=None)\n",
    "pd.read_excel('datasetsexcel/13/IT.xlsx',sheet_name='PLACEMENT PROFILE').to_csv('datasets2/13/IT.csv',index=None)\n",
    "pd.read_excel('datasetsexcel/13/MECH.xlsx',sheet_name='PLACEMENT PROFILE').to_csv('datasets2/13/MECH.csv',index=None)\n",
    "pd.read_excel('datasetsexcel/13/PROD.xlsx',sheet_name='PLACEMENT PROFILE').to_csv('datasets2/13/PROD.csv',index=None)"
   ]
  },
  {
   "cell_type": "markdown",
   "id": "unique-particular",
   "metadata": {},
   "source": [
    "## 2014"
   ]
  },
  {
   "cell_type": "code",
   "execution_count": 34,
   "id": "systematic-career",
   "metadata": {},
   "outputs": [],
   "source": [
    "pd.read_excel('datasetsexcel/14/BIOTECH.xlsx',sheet_name='Placed').to_csv('datasets2/14/BIOTECH.csv',index=None)\n",
    "pd.read_excel('datasetsexcel/14/CHEM.xlsx',sheet_name='Placed').to_csv('datasets2/14/CHEM.csv',index=None)\n",
    "pd.read_excel('datasetsexcel/14/CIVIL.xlsx',sheet_name='Placed').to_csv('datasets2/14/CIVIL.csv',index=None)\n",
    "pd.read_excel('datasetsexcel/14/CSE1.xlsx',sheet_name='Placed').to_csv('datasets2/14/CSE1.csv',index=None)\n",
    "pd.read_excel('datasetsexcel/14/CSE2.xlsx',sheet_name='Placed').to_csv('datasets2/14/CSE2.csv',index=None)\n",
    "pd.read_excel('datasetsexcel/14/ECE1.xlsx',sheet_name='Placed').to_csv('datasets2/14/ECE1.csv',index=None)\n",
    "pd.read_excel('datasetsexcel/14/ECE2.xlsx',sheet_name='Placed').to_csv('datasets2/14/ECE2.csv',index=None)\n",
    "pd.read_excel('datasetsexcel/14/EEE.xlsx',sheet_name='Placed').to_csv('datasets2/14/EEE.csv',index=None)\n",
    "pd.read_excel('datasetsexcel/14/IT.xlsx',sheet_name='Placed').to_csv('datasets2/14/IT.csv',index=None)\n",
    "pd.read_excel('datasetsexcel/14/MECH.xlsx',sheet_name='Placed').to_csv('datasets2/14/MECH.csv',index=None)\n",
    "pd.read_excel('datasetsexcel/14/PROD.xlsx',sheet_name='Placed').to_csv('datasets2/14/PROD.csv',index=None)"
   ]
  },
  {
   "cell_type": "markdown",
   "id": "worthy-indication",
   "metadata": {},
   "source": [
    "## 2015"
   ]
  },
  {
   "cell_type": "code",
   "execution_count": 38,
   "id": "regulation-animation",
   "metadata": {},
   "outputs": [],
   "source": [
    "pd.read_excel('datasetsexcel/15/BIOTECH.xlsx',sheet_name='Placed').to_csv('datasets2/15/BIOTECH.csv',index=None)\n",
    "pd.read_excel('datasetsexcel/15/CHEM.xlsx',sheet_name='Placed').to_csv('datasets2/15/CHEM.csv',index=None)\n",
    "pd.read_excel('datasetsexcel/15/CIVIL1.xlsx',sheet_name='Placed').to_csv('datasets2/15/CIVIL1.csv',index=None)\n",
    "pd.read_excel('datasetsexcel/15/CIVIL2.xlsx',sheet_name='Placed').to_csv('datasets2/15/CIVIL2.csv',index=None)\n",
    "pd.read_excel('datasetsexcel/15/CSE1.xlsx',sheet_name='Placed').to_csv('datasets2/15/CSE1.csv',index=None)\n",
    "pd.read_excel('datasetsexcel/15/CSE2.xlsx',sheet_name='Placed').to_csv('datasets2/15/CSE2.csv',index=None)\n",
    "pd.read_excel('datasetsexcel/15/ECE1.xlsx',sheet_name='Placed').to_csv('datasets2/15/ECE1.csv',index=None)\n",
    "pd.read_excel('datasetsexcel/15/ECE2.xlsx',sheet_name='Placed').to_csv('datasets2/15/ECE2.csv',index=None)\n",
    "pd.read_excel('datasetsexcel/15/EEE.xlsx',sheet_name='Placed').to_csv('datasets2/15/EEE.csv',index=None)\n",
    "pd.read_excel('datasetsexcel/15/IT.xlsx',sheet_name='Placed').to_csv('datasets2/15/IT.csv',index=None)\n",
    "pd.read_excel('datasetsexcel/15/MECH.xlsx',sheet_name='Placed').to_csv('datasets2/15/MECH.csv',index=None)\n",
    "pd.read_excel('datasetsexcel/15/PROD.xlsx',sheet_name='Placed').to_csv('datasets2/15/PROD.csv',index=None)"
   ]
  },
  {
   "cell_type": "markdown",
   "id": "underlying-cover",
   "metadata": {},
   "source": [
    "## 2016"
   ]
  },
  {
   "cell_type": "code",
   "execution_count": 40,
   "id": "unexpected-reviewer",
   "metadata": {},
   "outputs": [],
   "source": [
    "pd.read_excel('datasetsexcel/16/BIOTECH.xls',sheet_name='Placed').to_csv('datasets2/16/BIOTECH.csv',index=None)\n",
    "pd.read_excel('datasetsexcel/16/CHEM.xlsx',sheet_name='Placed').to_csv('datasets2/16/CHEM.csv',index=None)\n",
    "pd.read_excel('datasetsexcel/16/CIVIL1.xlsx',sheet_name='Placed').to_csv('datasets2/16/CIVIL1.csv',index=None)\n",
    "pd.read_excel('datasetsexcel/16/CIVIL2.xlsx',sheet_name='Placed').to_csv('datasets2/16/CIVIL2.csv',index=None)\n",
    "pd.read_excel('datasetsexcel/16/CSE1.xlsx',sheet_name='Placed').to_csv('datasets2/16/CSE1.csv',index=None)\n",
    "pd.read_excel('datasetsexcel/16/CSE2.xlsx',sheet_name='Placed').to_csv('datasets2/16/CSE2.csv',index=None)\n",
    "pd.read_excel('datasetsexcel/16/ECE1.xlsx',sheet_name='Placed').to_csv('datasets2/16/ECE1.csv',index=None)\n",
    "pd.read_excel('datasetsexcel/16/ECE2.xlsx',sheet_name='Placed').to_csv('datasets2/16/ECE2.csv',index=None)\n",
    "pd.read_excel('datasetsexcel/16/ECE3.xlsx',sheet_name='Placed').to_csv('datasets2/16/ECE3.csv',index=None)\n",
    "pd.read_excel('datasetsexcel/16/EEE.xlsx',sheet_name='Placed').to_csv('datasets2/16/EEE.csv',index=None)\n",
    "pd.read_excel('datasetsexcel/16/IT.xlsx',sheet_name='Placed').to_csv('datasets2/16/IT.csv',index=None)\n",
    "pd.read_excel('datasetsexcel/16/MECH1.xlsx',sheet_name='Placed').to_csv('datasets2/16/MECH1.csv',index=None)\n",
    "pd.read_excel('datasetsexcel/16/MECH2.xlsx',sheet_name='Placed').to_csv('datasets2/16/MECH2.csv',index=None)\n",
    "pd.read_excel('datasetsexcel/16/PROD.xlsx',sheet_name='Placed').to_csv('datasets2/16/PROD.csv',index=None)"
   ]
  },
  {
   "cell_type": "markdown",
   "id": "danish-system",
   "metadata": {},
   "source": [
    "## 2017"
   ]
  },
  {
   "cell_type": "code",
   "execution_count": 41,
   "id": "helpful-penny",
   "metadata": {},
   "outputs": [],
   "source": [
    "pd.read_excel('datasetsexcel/17/BIOTECH.xlsx',sheet_name='Placed').to_csv('datasets2/17/BIOTECH.csv',index=None)\n",
    "pd.read_excel('datasetsexcel/17/CHEM.xlsx',sheet_name='Placed').to_csv('datasets2/17/CHEM.csv',index=None)\n",
    "pd.read_excel('datasetsexcel/17/CIVIL1.xlsx',sheet_name='Placed').to_csv('datasets2/17/CIVIL1.csv',index=None)\n",
    "pd.read_excel('datasetsexcel/17/CIVIL2.xlsx',sheet_name='Placed').to_csv('datasets2/17/CIVIL2.csv',index=None)\n",
    "pd.read_excel('datasetsexcel/17/CSE1.xlsx',sheet_name='Placed').to_csv('datasets2/17/CSE1.csv',index=None)\n",
    "pd.read_excel('datasetsexcel/17/CSE2.xlsx',sheet_name='Placed').to_csv('datasets2/17/CSE2.csv',index=None)\n",
    "pd.read_excel('datasetsexcel/17/CSE3.xlsx',sheet_name='Placed').to_csv('datasets2/17/CSE3.csv',index=None)\n",
    "pd.read_excel('datasetsexcel/17/ECE1.xlsx',sheet_name='Placed').to_csv('datasets2/17/ECE1.csv',index=None)\n",
    "pd.read_excel('datasetsexcel/17/ECE2.xlsx',sheet_name='Placed').to_csv('datasets2/17/ECE2.csv',index=None)\n",
    "pd.read_excel('datasetsexcel/17/ECE3.xlsx',sheet_name='Placed').to_csv('datasets2/17/ECE3.csv',index=None)\n",
    "pd.read_excel('datasetsexcel/17/EEE1.xlsx',sheet_name='Placed').to_csv('datasets2/17/EEE1.csv',index=None)\n",
    "pd.read_excel('datasetsexcel/17/EEE2.xlsx',sheet_name='Placed').to_csv('datasets2/17/EEE2.csv',index=None)\n",
    "pd.read_excel('datasetsexcel/17/IT.xlsx',sheet_name='Placed').to_csv('datasets2/17/IT.csv',index=None)\n",
    "pd.read_excel('datasetsexcel/17/MECH1.xlsx',sheet_name='Placed').to_csv('datasets2/17/MECH1.csv',index=None)\n",
    "pd.read_excel('datasetsexcel/17/MECH2.xlsx',sheet_name='Placed').to_csv('datasets2/17/MECH2.csv',index=None)\n",
    "pd.read_excel('datasetsexcel/17/PROD.xlsx',sheet_name='Placed').to_csv('datasets2/17/PROD.csv',index=None)"
   ]
  },
  {
   "cell_type": "markdown",
   "id": "interim-antibody",
   "metadata": {},
   "source": [
    "## 2018"
   ]
  },
  {
   "cell_type": "code",
   "execution_count": 42,
   "id": "automatic-family",
   "metadata": {},
   "outputs": [],
   "source": [
    "pd.read_excel('datasetsexcel/18/BIOTECH.xlsx',sheet_name='Placed').to_csv('datasets2/18/BIOTECH.csv',index=None)\n",
    "pd.read_excel('datasetsexcel/18/CHEM.xlsx',sheet_name='Placed').to_csv('datasets2/18/CHEM.csv',index=None)\n",
    "pd.read_excel('datasetsexcel/18/CIVIL1.xlsx',sheet_name='Placed').to_csv('datasets2/18/CIVIL1.csv',index=None)\n",
    "pd.read_excel('datasetsexcel/18/CIVIL2.xlsx',sheet_name='Placed').to_csv('datasets2/18/CIVIL2.csv',index=None)\n",
    "pd.read_excel('datasetsexcel/18/CSE1.xlsx',sheet_name='Placed').to_csv('datasets2/18/CSE1.csv',index=None)\n",
    "pd.read_excel('datasetsexcel/18/CSE2.xlsx',sheet_name='Placed').to_csv('datasets2/18/CSE2.csv',index=None)\n",
    "pd.read_excel('datasetsexcel/18/CSE3.xlsx',sheet_name='Placed').to_csv('datasets2/18/CSE3.csv',index=None)\n",
    "pd.read_excel('datasetsexcel/18/ECE1.xlsx',sheet_name='Placed').to_csv('datasets2/18/ECE1.csv',index=None)\n",
    "pd.read_excel('datasetsexcel/18/ECE2.xlsx',sheet_name='Placed').to_csv('datasets2/18/ECE2.csv',index=None)\n",
    "pd.read_excel('datasetsexcel/18/ECE3.xlsx',sheet_name='Placed').to_csv('datasets2/18/ECE3.csv',index=None)\n",
    "pd.read_excel('datasetsexcel/18/EEE1.xlsx',sheet_name='Placed').to_csv('datasets2/18/EEE1.csv',index=None)\n",
    "pd.read_excel('datasetsexcel/18/EEE2.xlsx',sheet_name='Placed').to_csv('datasets2/18/EEE2.csv',index=None)\n",
    "pd.read_excel('datasetsexcel/18/IT.xlsx',sheet_name='Placed').to_csv('datasets2/18/IT.csv',index=None)\n",
    "pd.read_excel('datasetsexcel/18/MECH1.xlsx',sheet_name='Placed').to_csv('datasets2/18/MECH1.csv',index=None)\n",
    "pd.read_excel('datasetsexcel/18/MECH2.xlsx',sheet_name='Placed').to_csv('datasets2/18/MECH2.csv',index=None)\n",
    "pd.read_excel('datasetsexcel/18/PROD.xlsx',sheet_name='Placed').to_csv('datasets2/18/PROD.csv',index=None)"
   ]
  },
  {
   "cell_type": "markdown",
   "id": "environmental-restriction",
   "metadata": {},
   "source": [
    "## 2019"
   ]
  },
  {
   "cell_type": "code",
   "execution_count": 43,
   "id": "opened-illinois",
   "metadata": {},
   "outputs": [],
   "source": [
    "pd.read_excel('datasetsexcel/19/BIOTECH.xlsx',sheet_name='Placed').to_csv('datasets2/19/BIOTECH.csv',index=None)\n",
    "pd.read_excel('datasetsexcel/19/CHEM.xlsx',sheet_name='Placed').to_csv('datasets2/19/CHEM.csv',index=None)\n",
    "pd.read_excel('datasetsexcel/19/CIVIL1.xlsx',sheet_name='Placed').to_csv('datasets2/19/CIVIL1.csv',index=None)\n",
    "pd.read_excel('datasetsexcel/19/CIVIL2.xlsx',sheet_name='Placed').to_csv('datasets2/19/CIVIL2.csv',index=None)\n",
    "pd.read_excel('datasetsexcel/19/CSE1.xlsx',sheet_name='Placed').to_csv('datasets2/19/CSE1.csv',index=None)\n",
    "pd.read_excel('datasetsexcel/19/CSE2.xlsx',sheet_name='Placed').to_csv('datasets2/19/CSE2.csv',index=None)\n",
    "pd.read_excel('datasetsexcel/19/CSE3.xlsx',sheet_name='Placed').to_csv('datasets2/19/CSE3.csv',index=None)\n",
    "pd.read_excel('datasetsexcel/19/ECE1.xlsx',sheet_name='Placed').to_csv('datasets2/19/ECE1.csv',index=None)\n",
    "pd.read_excel('datasetsexcel/19/ECE2.xlsx',sheet_name='Placed').to_csv('datasets2/19/ECE2.csv',index=None)\n",
    "pd.read_excel('datasetsexcel/19/ECE3.xlsx',sheet_name='Placed').to_csv('datasets2/19/ECE3.csv',index=None)\n",
    "pd.read_excel('datasetsexcel/19/EEE1.xlsx',sheet_name='Placed').to_csv('datasets2/19/EEE1.csv',index=None)\n",
    "pd.read_excel('datasetsexcel/19/EEE2.xlsx',sheet_name='Placed').to_csv('datasets2/19/EEE2.csv',index=None)\n",
    "pd.read_excel('datasetsexcel/19/IT1.xlsx',sheet_name='Placed').to_csv('datasets2/19/IT1.csv',index=None)\n",
    "pd.read_excel('datasetsexcel/19/IT2.xlsx',sheet_name='Placed').to_csv('datasets2/19/IT2.csv',index=None)\n",
    "pd.read_excel('datasetsexcel/19/MECH1.xlsx',sheet_name='Placed').to_csv('datasets2/19/MECH1.csv',index=None)\n",
    "pd.read_excel('datasetsexcel/19/MECH2.xlsx',sheet_name='Placed').to_csv('datasets2/19/MECH2.csv',index=None)\n",
    "pd.read_excel('datasetsexcel/19/PROD.xlsx',sheet_name='Placed').to_csv('datasets2/19/PROD.csv',index=None)"
   ]
  },
  {
   "cell_type": "markdown",
   "id": "adolescent-trustee",
   "metadata": {},
   "source": [
    "## 2020"
   ]
  },
  {
   "cell_type": "code",
   "execution_count": 46,
   "id": "simple-snapshot",
   "metadata": {},
   "outputs": [],
   "source": [
    "pd.read_excel('datasetsexcel/20/BIOTECH.xlsx',sheet_name='Placed').to_csv('datasets2/20/BIOTECH.csv',index=None)\n",
    "pd.read_excel('datasetsexcel/20/CHEM.xlsx',sheet_name='Placed').to_csv('datasets2/20/CHEM.csv',index=None)\n",
    "pd.read_excel('datasetsexcel/20/CIVIL1.xlsx',sheet_name='Placed').to_csv('datasets2/20/CIVIL1.csv',index=None)\n",
    "pd.read_excel('datasetsexcel/20/CIVIL2.xlsx',sheet_name='Placed').to_csv('datasets2/20/CIVIL2.csv',index=None)\n",
    "pd.read_excel('datasetsexcel/20/CSE1.xlsx',sheet_name='Placed').to_csv('datasets2/20/CSE1.csv',index=None)\n",
    "pd.read_excel('datasetsexcel/20/CSE2.xlsx',sheet_name='Placed').to_csv('datasets2/20/CSE2.csv',index=None)\n",
    "pd.read_excel('datasetsexcel/20/CSE3.xlsx',sheet_name='Placed').to_csv('datasets2/20/CSE3.csv',index=None)\n",
    "pd.read_excel('datasetsexcel/20/ECE1.xlsx',sheet_name='Placed').to_csv('datasets2/20/ECE1.csv',index=None)\n",
    "pd.read_excel('datasetsexcel/20/ECE2.xlsx',sheet_name='Placed').to_csv('datasets2/20/ECE2.csv',index=None)\n",
    "pd.read_excel('datasetsexcel/20/ECE3.xlsx',sheet_name='Placed').to_csv('datasets2/20/ECE3.csv',index=None)\n",
    "pd.read_excel('datasetsexcel/20/EEE1.xlsx',sheet_name='Placed').to_csv('datasets2/20/EEE1.csv',index=None)\n",
    "pd.read_excel('datasetsexcel/20/EEE2.xlsx',sheet_name='Placed').to_csv('datasets2/20/EEE2.csv',index=None)\n",
    "pd.read_excel('datasetsexcel/20/IT1.xlsx',sheet_name='Placed').to_csv('datasets2/20/IT1.csv',index=None)\n",
    "pd.read_excel('datasetsexcel/20/IT2.xlsx',sheet_name='Placed').to_csv('datasets2/20/IT2.csv',index=None)\n",
    "pd.read_excel('datasetsexcel/20/MECH1.xlsx',sheet_name='Placed').to_csv('datasets2/20/MECH1.csv',index=None)\n",
    "pd.read_excel('datasetsexcel/20/MECH2.xlsx',sheet_name='Placed').to_csv('datasets2/20/MECH2.csv',index=None)\n",
    "pd.read_excel('datasetsexcel/20/PROD.xlsx',sheet_name='Placed').to_csv('datasets2/20/PROD.csv',index=None)"
   ]
  },
  {
   "cell_type": "markdown",
   "id": "touched-concept",
   "metadata": {},
   "source": [
    "## 2021"
   ]
  },
  {
   "cell_type": "code",
   "execution_count": 4,
   "id": "brazilian-publicity",
   "metadata": {},
   "outputs": [],
   "source": [
    "pd.read_excel('datasetsexcel/21/BIOTECH.xlsx',sheet_name='Placed').to_csv('datasets2/21/BIOTECH.csv',index=None)\n",
    "pd.read_excel('datasetsexcel/21/CHEM.xlsx',sheet_name='Placed').to_csv('datasets2/21/CHEM.csv',index=None)\n",
    "pd.read_excel('datasetsexcel/21/CIVIL1.xlsx',sheet_name='Placed').to_csv('datasets2/21/CIVIL1.csv',index=None)\n",
    "pd.read_excel('datasetsexcel/21/CIVIL2.xlsx',sheet_name='Placed').to_csv('datasets2/21/CIVIL2.csv',index=None)\n",
    "pd.read_excel('datasetsexcel/21/CSE1.xlsx',sheet_name='Placed').to_csv('datasets2/21/CSE1.csv',index=None)\n",
    "pd.read_excel('datasetsexcel/21/CSE2.xlsx',sheet_name='Placed').to_csv('datasets2/21/CSE2.csv',index=None)\n",
    "pd.read_excel('datasetsexcel/21/CSE3.xlsx',sheet_name='Placed').to_csv('datasets2/21/CSE3.csv',index=None)\n",
    "pd.read_excel('datasetsexcel/21/ECE1.xlsx',sheet_name='Placed').to_csv('datasets2/21/ECE1.csv',index=None)\n",
    "pd.read_excel('datasetsexcel/21/ECE2.xlsx',sheet_name='Placed').to_csv('datasets2/21/ECE2.csv',index=None)\n",
    "pd.read_excel('datasetsexcel/21/ECE3.xlsx',sheet_name='Placed').to_csv('datasets2/21/ECE3.csv',index=None)\n",
    "pd.read_excel('datasetsexcel/21/EEE1.xlsx',sheet_name='Placed').to_csv('datasets2/21/EEE1.csv',index=None)\n",
    "pd.read_excel('datasetsexcel/21/EEE2.xlsx',sheet_name='Placed').to_csv('datasets2/21/EEE2.csv',index=None)\n",
    "pd.read_excel('datasetsexcel/21/IT1.xlsx',sheet_name='Placed').to_csv('datasets2/21/IT1.csv',index=None)\n",
    "pd.read_excel('datasetsexcel/21/IT2.xlsx',sheet_name='Placed').to_csv('datasets2/21/IT2.csv',index=None)\n",
    "pd.read_excel('datasetsexcel/21/MECH1.xlsx',sheet_name='Placed').to_csv('datasets2/21/MECH1.csv',index=None)\n",
    "pd.read_excel('datasetsexcel/21/MECH2.xlsx',sheet_name='Placed').to_csv('datasets2/21/MECH2.csv',index=None)\n",
    "pd.read_excel('datasetsexcel/21/PROD.xlsx',sheet_name='Placed').to_csv('datasets2/21/PROD.csv',index=None)"
   ]
  },
  {
   "cell_type": "code",
   "execution_count": null,
   "id": "unusual-career",
   "metadata": {},
   "outputs": [],
   "source": []
  }
 ],
 "metadata": {
  "kernelspec": {
   "display_name": "Python 3",
   "language": "python",
   "name": "python3"
  },
  "language_info": {
   "codemirror_mode": {
    "name": "ipython",
    "version": 3
   },
   "file_extension": ".py",
   "mimetype": "text/x-python",
   "name": "python",
   "nbconvert_exporter": "python",
   "pygments_lexer": "ipython3",
   "version": "3.8.3"
  }
 },
 "nbformat": 4,
 "nbformat_minor": 5
}
