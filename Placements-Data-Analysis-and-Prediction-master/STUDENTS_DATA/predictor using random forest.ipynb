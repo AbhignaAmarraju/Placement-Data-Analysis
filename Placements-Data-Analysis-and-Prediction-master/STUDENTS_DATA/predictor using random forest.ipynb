{
 "cells": [
  {
   "cell_type": "code",
   "execution_count": 1,
   "metadata": {},
   "outputs": [],
   "source": [
    "import numpy as np\n",
    "import matplotlib.pyplot as plt\n",
    "import pandas as pd"
   ]
  },
  {
   "cell_type": "code",
   "execution_count": 2,
   "metadata": {},
   "outputs": [
    {
     "data": {
      "text/html": [
       "<div>\n",
       "<style scoped>\n",
       "    .dataframe tbody tr th:only-of-type {\n",
       "        vertical-align: middle;\n",
       "    }\n",
       "\n",
       "    .dataframe tbody tr th {\n",
       "        vertical-align: top;\n",
       "    }\n",
       "\n",
       "    .dataframe thead th {\n",
       "        text-align: right;\n",
       "    }\n",
       "</style>\n",
       "<table border=\"1\" class=\"dataframe\">\n",
       "  <thead>\n",
       "    <tr style=\"text-align: right;\">\n",
       "      <th></th>\n",
       "      <th>Gender</th>\n",
       "      <th>CGPA</th>\n",
       "      <th>No. of Backlogs</th>\n",
       "      <th>Branch</th>\n",
       "      <th>Status</th>\n",
       "    </tr>\n",
       "  </thead>\n",
       "  <tbody>\n",
       "    <tr>\n",
       "      <th>0</th>\n",
       "      <td>female</td>\n",
       "      <td>6.981</td>\n",
       "      <td>1.0</td>\n",
       "      <td>Biotechnology</td>\n",
       "      <td>Not Placed</td>\n",
       "    </tr>\n",
       "    <tr>\n",
       "      <th>1</th>\n",
       "      <td>female</td>\n",
       "      <td>5.400</td>\n",
       "      <td>0.0</td>\n",
       "      <td>Biotechnology</td>\n",
       "      <td>Not Placed</td>\n",
       "    </tr>\n",
       "    <tr>\n",
       "      <th>2</th>\n",
       "      <td>female</td>\n",
       "      <td>6.600</td>\n",
       "      <td>0.0</td>\n",
       "      <td>Biotechnology</td>\n",
       "      <td>Not Placed</td>\n",
       "    </tr>\n",
       "    <tr>\n",
       "      <th>3</th>\n",
       "      <td>female</td>\n",
       "      <td>5.100</td>\n",
       "      <td>1.0</td>\n",
       "      <td>Biotechnology</td>\n",
       "      <td>Not Placed</td>\n",
       "    </tr>\n",
       "    <tr>\n",
       "      <th>4</th>\n",
       "      <td>female</td>\n",
       "      <td>7.100</td>\n",
       "      <td>0.0</td>\n",
       "      <td>Biotechnology</td>\n",
       "      <td>Not Placed</td>\n",
       "    </tr>\n",
       "    <tr>\n",
       "      <th>...</th>\n",
       "      <td>...</td>\n",
       "      <td>...</td>\n",
       "      <td>...</td>\n",
       "      <td>...</td>\n",
       "      <td>...</td>\n",
       "    </tr>\n",
       "    <tr>\n",
       "      <th>1195</th>\n",
       "      <td>male</td>\n",
       "      <td>6.602</td>\n",
       "      <td>1.0</td>\n",
       "      <td>Civil</td>\n",
       "      <td>Not Placed</td>\n",
       "    </tr>\n",
       "    <tr>\n",
       "      <th>1196</th>\n",
       "      <td>male</td>\n",
       "      <td>7.574</td>\n",
       "      <td>0.0</td>\n",
       "      <td>Civil</td>\n",
       "      <td>Placed</td>\n",
       "    </tr>\n",
       "    <tr>\n",
       "      <th>1197</th>\n",
       "      <td>male</td>\n",
       "      <td>8.645</td>\n",
       "      <td>0.0</td>\n",
       "      <td>Civil</td>\n",
       "      <td>Placed</td>\n",
       "    </tr>\n",
       "    <tr>\n",
       "      <th>1198</th>\n",
       "      <td>male</td>\n",
       "      <td>7.420</td>\n",
       "      <td>0.0</td>\n",
       "      <td>Civil</td>\n",
       "      <td>Not Placed</td>\n",
       "    </tr>\n",
       "    <tr>\n",
       "      <th>1199</th>\n",
       "      <td>male</td>\n",
       "      <td>6.653</td>\n",
       "      <td>0.0</td>\n",
       "      <td>Civil</td>\n",
       "      <td>Not Placed</td>\n",
       "    </tr>\n",
       "  </tbody>\n",
       "</table>\n",
       "<p>1200 rows × 5 columns</p>\n",
       "</div>"
      ],
      "text/plain": [
       "      Gender   CGPA  No. of Backlogs         Branch      Status\n",
       "0     female  6.981              1.0  Biotechnology  Not Placed\n",
       "1     female  5.400              0.0  Biotechnology  Not Placed\n",
       "2     female  6.600              0.0  Biotechnology  Not Placed\n",
       "3     female  5.100              1.0  Biotechnology  Not Placed\n",
       "4     female  7.100              0.0  Biotechnology  Not Placed\n",
       "...      ...    ...              ...            ...         ...\n",
       "1195    male  6.602              1.0          Civil  Not Placed\n",
       "1196    male  7.574              0.0          Civil      Placed\n",
       "1197    male  8.645              0.0          Civil      Placed\n",
       "1198    male  7.420              0.0          Civil  Not Placed\n",
       "1199    male  6.653              0.0          Civil  Not Placed\n",
       "\n",
       "[1200 rows x 5 columns]"
      ]
     },
     "execution_count": 2,
     "metadata": {},
     "output_type": "execute_result"
    }
   ],
   "source": [
    "Dataset = pd.read_csv('cleaned/10yrsmerged.csv')\n",
    "df=pd.DataFrame()\n",
    "Dataset=Dataset[['Gender','CGPA','No. of Backlogs','Branch','Status']]\n",
    "Dataset['No. of Backlogs'].fillna(0,inplace=True)\n",
    "Dataset.head(1200)"
   ]
  },
  {
   "cell_type": "code",
   "execution_count": 3,
   "metadata": {},
   "outputs": [
    {
     "name": "stdout",
     "output_type": "stream",
     "text": [
      "        Count\n",
      "Male     5184\n",
      "Female   3331\n"
     ]
    }
   ],
   "source": [
    "gen=pd.DataFrame(Dataset,columns=['Gender'])\n",
    "mcount=gen['Gender'].value_counts()['male']\n",
    "fcount=gen['Gender'].value_counts()['female']\n",
    "ss=[[mcount],[fcount]]\n",
    "df = pd.DataFrame(ss,columns=['Count'],index=['Male','Female'])\n",
    "print(df)"
   ]
  },
  {
   "cell_type": "code",
   "execution_count": 4,
   "metadata": {},
   "outputs": [
    {
     "data": {
      "image/png": "[encoded data removed]",
      "text/plain": [
       "<Figure size 432x288 with 1 Axes>"
      ]
     },
     "metadata": {
      "needs_background": "light"
     },
     "output_type": "display_data"
    }
   ],
   "source": [
    "gen=pd.DataFrame(Dataset,columns=['Gender'])\n",
    "mcount=gen['Gender'].value_counts()['male']\n",
    "fcount=gen['Gender'].value_counts()['female']\n",
    "count=np.array([mcount,fcount])\n",
    "gen=np.array(['Male','Female'])\n",
    "plt.bar(gen,count)\n",
    "plt.show()"
   ]
  },
  {
   "cell_type": "code",
   "execution_count": 5,
   "metadata": {},
   "outputs": [
    {
     "name": "stdout",
     "output_type": "stream",
     "text": [
      "            Count\n",
      "Placed       5948\n",
      "Not Placed   2567\n"
     ]
    }
   ],
   "source": [
    "gen=pd.DataFrame(Dataset,columns=['Status'])\n",
    "mcount=gen['Status'].value_counts()['Placed']\n",
    "fcount=gen['Status'].value_counts()['Not Placed']\n",
    "ss=[[mcount],[fcount]]\n",
    "df = pd.DataFrame(ss,columns=['Count'],index=['Placed','Not Placed'])\n",
    "print(df)"
   ]
  },
  {
   "cell_type": "code",
   "execution_count": 6,
   "metadata": {},
   "outputs": [
    {
     "data": {
      "image/png": "[encoded data removed]",
      "text/plain": [
       "<Figure size 432x288 with 1 Axes>"
      ]
     },
     "metadata": {
      "needs_background": "light"
     },
     "output_type": "display_data"
    }
   ],
   "source": [
    "gen=pd.DataFrame(Dataset,columns=['Status'])\n",
    "mcount=gen['Status'].value_counts()['Placed']\n",
    "fcount=gen['Status'].value_counts()['Not Placed']\n",
    "count=np.array([mcount,fcount])\n",
    "gen=np.array(['Placed','Not Placed'])\n",
    "plt.bar(gen,count)\n",
    "plt.show()"
   ]
  },
  {
   "cell_type": "code",
   "execution_count": 7,
   "metadata": {},
   "outputs": [
    {
     "data": {
      "text/plain": [
       "0.0     7390\n",
       "1.0      429\n",
       "2.0      248\n",
       "3.0      130\n",
       "4.0       81\n",
       "5.0       70\n",
       "6.0       54\n",
       "8.0       28\n",
       "7.0       28\n",
       "9.0       21\n",
       "10.0      16\n",
       "11.0       8\n",
       "12.0       5\n",
       "13.0       3\n",
       "14.0       2\n",
       "20.0       1\n",
       "15.0       1\n",
       "Name: No. of Backlogs, dtype: int64"
      ]
     },
     "execution_count": 7,
     "metadata": {},
     "output_type": "execute_result"
    }
   ],
   "source": [
    "gen=pd.DataFrame(Dataset,columns=['No. of Backlogs'])\n",
    "cou=gen['No. of Backlogs'].value_counts()\n",
    "cou"
   ]
  },
  {
   "cell_type": "code",
   "execution_count": 8,
   "metadata": {},
   "outputs": [
    {
     "name": "stdout",
     "output_type": "stream",
     "text": [
      "          Count\n",
      "Biotech     483\n",
      "Chemical    569\n",
      "Civil       967\n",
      "CSE        1607\n",
      "ECE        1715\n",
      "EEE         913\n",
      "IT          772\n",
      "Mech        959\n",
      "Prod        530\n"
     ]
    }
   ],
   "source": [
    "gen=pd.DataFrame(Dataset,columns=['Branch'])\n",
    "b1=gen['Branch'].value_counts()['Biotechnology']\n",
    "b2=gen['Branch'].value_counts()['Chemical']\n",
    "b3=gen['Branch'].value_counts()['Civil']\n",
    "b4=gen['Branch'].value_counts()['CSE']\n",
    "b5=gen['Branch'].value_counts()['ECE']\n",
    "b6=gen['Branch'].value_counts()['EEE']\n",
    "b7=gen['Branch'].value_counts()['IT']\n",
    "b8=gen['Branch'].value_counts()['Mechanical']\n",
    "b9=gen['Branch'].value_counts()['Production']\n",
    "ss=[[b1],[b2],[b3],[b4],[b5],[b6],[b7],[b8],[b9]]\n",
    "df = pd.DataFrame(ss,columns=['Count'],index=['Biotech','Chemical','Civil','CSE','ECE','EEE','IT','Mech','Prod'])\n",
    "print(df)"
   ]
  },
  {
   "cell_type": "code",
   "execution_count": 9,
   "metadata": {},
   "outputs": [
    {
     "data": {
      "image/png": "[encoded data removed]",
      "text/plain": [
       "<Figure size 504x504 with 1 Axes>"
      ]
     },
     "metadata": {
      "needs_background": "light"
     },
     "output_type": "display_data"
    }
   ],
   "source": [
    "gen=pd.DataFrame(Dataset,columns=['Branch'])\n",
    "b1=gen['Branch'].value_counts()['Biotechnology']\n",
    "b2=gen['Branch'].value_counts()['Chemical']\n",
    "b3=gen['Branch'].value_counts()['Civil']\n",
    "b4=gen['Branch'].value_counts()['CSE']\n",
    "b5=gen['Branch'].value_counts()['ECE']\n",
    "b6=gen['Branch'].value_counts()['EEE']\n",
    "b7=gen['Branch'].value_counts()['IT']\n",
    "b8=gen['Branch'].value_counts()['Mechanical']\n",
    "b9=gen['Branch'].value_counts()['Production']\n",
    "count=np.array([b1,b2,b3,b4,b5,b6,b7,b8,b9])\n",
    "gen=np.array(['Biotech','Chem','Civil','CSE','ECE','EEE','IT','Mech','Prod'])\n",
    "\n",
    "plt.figure(figsize=(7, 7))\n",
    "plt.bar(gen,count)\n",
    "plt.show()"
   ]
  },
  {
   "cell_type": "code",
   "execution_count": 10,
   "metadata": {},
   "outputs": [
    {
     "data": {
      "text/plain": [
       "Gender              object\n",
       "CGPA               float64\n",
       "No. of Backlogs    float64\n",
       "Branch              object\n",
       "Status              object\n",
       "dtype: object"
      ]
     },
     "execution_count": 10,
     "metadata": {},
     "output_type": "execute_result"
    }
   ],
   "source": [
    "Dataset.dtypes"
   ]
  },
  {
   "cell_type": "code",
   "execution_count": 11,
   "metadata": {},
   "outputs": [
    {
     "data": {
      "text/plain": [
       "Gender             category\n",
       "CGPA                float64\n",
       "No. of Backlogs     float64\n",
       "Branch             category\n",
       "Status             category\n",
       "dtype: object"
      ]
     },
     "execution_count": 11,
     "metadata": {},
     "output_type": "execute_result"
    }
   ],
   "source": [
    "Dataset[\"Gender\"] = Dataset[\"Gender\"].astype('category')\n",
    "Dataset[\"Branch\"] = Dataset[\"Branch\"].astype('category')\n",
    "Dataset[\"Status\"] = Dataset[\"Status\"].astype('category')\n",
    "Dataset.dtypes"
   ]
  },
  {
   "cell_type": "code",
   "execution_count": 12,
   "metadata": {},
   "outputs": [
    {
     "data": {
      "text/html": [
       "<div>\n",
       "<style scoped>\n",
       "    .dataframe tbody tr th:only-of-type {\n",
       "        vertical-align: middle;\n",
       "    }\n",
       "\n",
       "    .dataframe tbody tr th {\n",
       "        vertical-align: top;\n",
       "    }\n",
       "\n",
       "    .dataframe thead th {\n",
       "        text-align: right;\n",
       "    }\n",
       "</style>\n",
       "<table border=\"1\" class=\"dataframe\">\n",
       "  <thead>\n",
       "    <tr style=\"text-align: right;\">\n",
       "      <th></th>\n",
       "      <th>Gender</th>\n",
       "      <th>CGPA</th>\n",
       "      <th>No. of Backlogs</th>\n",
       "      <th>Branch</th>\n",
       "      <th>Status</th>\n",
       "    </tr>\n",
       "  </thead>\n",
       "  <tbody>\n",
       "    <tr>\n",
       "      <th>7315</th>\n",
       "      <td>1</td>\n",
       "      <td>6.100000</td>\n",
       "      <td>0.0</td>\n",
       "      <td>7</td>\n",
       "      <td>1</td>\n",
       "    </tr>\n",
       "    <tr>\n",
       "      <th>7316</th>\n",
       "      <td>1</td>\n",
       "      <td>6.010000</td>\n",
       "      <td>0.0</td>\n",
       "      <td>7</td>\n",
       "      <td>1</td>\n",
       "    </tr>\n",
       "    <tr>\n",
       "      <th>7317</th>\n",
       "      <td>1</td>\n",
       "      <td>6.015000</td>\n",
       "      <td>3.0</td>\n",
       "      <td>7</td>\n",
       "      <td>0</td>\n",
       "    </tr>\n",
       "    <tr>\n",
       "      <th>7318</th>\n",
       "      <td>0</td>\n",
       "      <td>6.280000</td>\n",
       "      <td>2.0</td>\n",
       "      <td>7</td>\n",
       "      <td>0</td>\n",
       "    </tr>\n",
       "    <tr>\n",
       "      <th>7319</th>\n",
       "      <td>0</td>\n",
       "      <td>6.755556</td>\n",
       "      <td>0.0</td>\n",
       "      <td>7</td>\n",
       "      <td>0</td>\n",
       "    </tr>\n",
       "    <tr>\n",
       "      <th>...</th>\n",
       "      <td>...</td>\n",
       "      <td>...</td>\n",
       "      <td>...</td>\n",
       "      <td>...</td>\n",
       "      <td>...</td>\n",
       "    </tr>\n",
       "    <tr>\n",
       "      <th>8510</th>\n",
       "      <td>1</td>\n",
       "      <td>6.080000</td>\n",
       "      <td>0.0</td>\n",
       "      <td>8</td>\n",
       "      <td>0</td>\n",
       "    </tr>\n",
       "    <tr>\n",
       "      <th>8511</th>\n",
       "      <td>1</td>\n",
       "      <td>7.490000</td>\n",
       "      <td>0.0</td>\n",
       "      <td>8</td>\n",
       "      <td>1</td>\n",
       "    </tr>\n",
       "    <tr>\n",
       "      <th>8512</th>\n",
       "      <td>1</td>\n",
       "      <td>7.240000</td>\n",
       "      <td>0.0</td>\n",
       "      <td>8</td>\n",
       "      <td>0</td>\n",
       "    </tr>\n",
       "    <tr>\n",
       "      <th>8513</th>\n",
       "      <td>1</td>\n",
       "      <td>6.730000</td>\n",
       "      <td>0.0</td>\n",
       "      <td>8</td>\n",
       "      <td>0</td>\n",
       "    </tr>\n",
       "    <tr>\n",
       "      <th>8514</th>\n",
       "      <td>1</td>\n",
       "      <td>6.200000</td>\n",
       "      <td>0.0</td>\n",
       "      <td>8</td>\n",
       "      <td>0</td>\n",
       "    </tr>\n",
       "  </tbody>\n",
       "</table>\n",
       "<p>1200 rows × 5 columns</p>\n",
       "</div>"
      ],
      "text/plain": [
       "      Gender      CGPA  No. of Backlogs  Branch  Status\n",
       "7315       1  6.100000              0.0       7       1\n",
       "7316       1  6.010000              0.0       7       1\n",
       "7317       1  6.015000              3.0       7       0\n",
       "7318       0  6.280000              2.0       7       0\n",
       "7319       0  6.755556              0.0       7       0\n",
       "...      ...       ...              ...     ...     ...\n",
       "8510       1  6.080000              0.0       8       0\n",
       "8511       1  7.490000              0.0       8       1\n",
       "8512       1  7.240000              0.0       8       0\n",
       "8513       1  6.730000              0.0       8       0\n",
       "8514       1  6.200000              0.0       8       0\n",
       "\n",
       "[1200 rows x 5 columns]"
      ]
     },
     "execution_count": 12,
     "metadata": {},
     "output_type": "execute_result"
    }
   ],
   "source": [
    "Dataset[\"Gender\"] = Dataset[\"Gender\"].cat.codes #female=0 and male=1\n",
    "Dataset[\"Branch\"] = Dataset[\"Branch\"].cat.codes #each branch allotted each digit from 1 to 8\n",
    "Dataset[\"Status\"] = Dataset[\"Status\"].cat.codes #placed=1 not placed=0\n",
    "Dataset.tail(1200)"
   ]
  },
  {
   "cell_type": "code",
   "execution_count": 13,
   "metadata": {},
   "outputs": [],
   "source": [
    "#Modified_dset=Dataset[['Gender','No. of Backlogs','Branch']]\n",
    "#Modified_dset"
   ]
  },
  {
   "cell_type": "code",
   "execution_count": 14,
   "metadata": {},
   "outputs": [
    {
     "name": "stdout",
     "output_type": "stream",
     "text": [
      "[[0.    6.981 1.    0.   ]\n",
      " [0.    5.4   0.    0.   ]\n",
      " [0.    6.6   0.    0.   ]\n",
      " ...\n",
      " [1.    7.24  0.    8.   ]\n",
      " [1.    6.73  0.    8.   ]\n",
      " [1.    6.2   0.    8.   ]]\n",
      "[0 0 0 ... 0 0 0]\n"
     ]
    }
   ],
   "source": [
    "X = Dataset.iloc[:, range(0,4)].values\n",
    "print(X)\n",
    "y = Dataset.iloc[:,4].values\n",
    "print(y)"
   ]
  },
  {
   "cell_type": "code",
   "execution_count": 15,
   "metadata": {},
   "outputs": [],
   "source": [
    "from sklearn.model_selection import train_test_split\n",
    "X_train, X_test, y_train, y_test = train_test_split(X, y, test_size = 0.3)"
   ]
  },
  {
   "cell_type": "code",
   "execution_count": 16,
   "metadata": {},
   "outputs": [
    {
     "name": "stdout",
     "output_type": "stream",
     "text": [
      "[[ 0.79384944  0.53988089 -0.28423044  0.06589038]\n",
      " [-1.2596847   0.6329101  -0.28423044 -1.21606822]\n",
      " [ 0.79384944  1.67690456 -0.28423044  0.06589038]\n",
      " ...\n",
      " [ 0.79384944 -0.60530325  0.45583658 -0.36142915]\n",
      " [-1.2596847   1.16007562 -0.28423044  0.06589038]\n",
      " [ 0.79384944 -1.45507884 -0.28423044  0.06589038]]\n",
      "[[ 0.79384944  0.61223694 -0.28423044  0.49320991]\n",
      " [-1.2596847   0.84387967 -0.28423044  0.06589038]\n",
      " [ 0.79384944 -0.44209411 -0.28423044  0.06589038]\n",
      " ...\n",
      " [ 0.79384944  1.37714378 -0.28423044  0.06589038]\n",
      " [ 0.79384944  1.03603667 -0.28423044  0.06589038]\n",
      " [-1.2596847   0.35382247 -0.28423044 -0.36142915]]\n"
     ]
    }
   ],
   "source": [
    "from sklearn.preprocessing import StandardScaler\n",
    "sc = StandardScaler()\n",
    "X_train = sc.fit_transform(X_train)\n",
    "X_test = sc.transform(X_test)\n",
    "print(X_train)\n",
    "print(X_test)"
   ]
  },
  {
   "cell_type": "code",
   "execution_count": 17,
   "metadata": {},
   "outputs": [
    {
     "data": {
      "text/plain": [
       "array([1, 1, 1, ..., 1, 1, 1], dtype=int8)"
      ]
     },
     "execution_count": 17,
     "metadata": {},
     "output_type": "execute_result"
    }
   ],
   "source": [
    "from sklearn.ensemble import RandomForestClassifier\n",
    "classifier = RandomForestClassifier(n_estimators = 100)\n",
    "classifier.fit(X_train, y_train)\n",
    "y_pred = classifier.predict(X_test)\n",
    "y_pred"
   ]
  },
  {
   "cell_type": "code",
   "execution_count": 18,
   "metadata": {},
   "outputs": [
    {
     "data": {
      "text/plain": [
       "0.9447986577181208"
      ]
     },
     "execution_count": 18,
     "metadata": {},
     "output_type": "execute_result"
    }
   ],
   "source": [
    "classifier.score(X_train, y_train)"
   ]
  },
  {
   "cell_type": "code",
   "execution_count": 19,
   "metadata": {},
   "outputs": [
    {
     "data": {
      "text/plain": [
       "0.7150684931506849"
      ]
     },
     "execution_count": 19,
     "metadata": {},
     "output_type": "execute_result"
    }
   ],
   "source": [
    "classifier.score(X_test, y_test)"
   ]
  },
  {
   "cell_type": "code",
   "execution_count": 20,
   "metadata": {},
   "outputs": [
    {
     "name": "stdout",
     "output_type": "stream",
     "text": [
      "Confusion Matrix:\n",
      "[[ 387  342]\n",
      " [ 386 1440]]\n",
      "Classification Report:\n",
      "              precision    recall  f1-score   support\n",
      "\n",
      "           0       0.50      0.53      0.52       729\n",
      "           1       0.81      0.79      0.80      1826\n",
      "\n",
      "    accuracy                           0.72      2555\n",
      "   macro avg       0.65      0.66      0.66      2555\n",
      "weighted avg       0.72      0.72      0.72      2555\n",
      "\n",
      "Accuracy: 0.7150684931506849\n"
     ]
    }
   ],
   "source": [
    "from sklearn.metrics import classification_report, confusion_matrix, accuracy_score\n",
    "result = confusion_matrix(y_test, y_pred)\n",
    "print(\"Confusion Matrix:\")\n",
    "print(result)\n",
    "result1 = classification_report(y_test, y_pred)\n",
    "print(\"Classification Report:\",)\n",
    "print (result1)\n",
    "result2 = accuracy_score(y_test,y_pred)\n",
    "print(\"Accuracy:\",result2)"
   ]
  },
  {
   "cell_type": "code",
   "execution_count": 21,
   "metadata": {},
   "outputs": [
    {
     "name": "stdout",
     "output_type": "stream",
     "text": [
      "[1]\n"
     ]
    }
   ],
   "source": [
    "print(classifier.predict([[0,1,12,6]]))"
   ]
  },
  {
   "cell_type": "code",
   "execution_count": 22,
   "metadata": {},
   "outputs": [],
   "source": [
    "features = pd.Series(classifier.feature_importances_,index=Dataset.columns[range(0,4)]).sort_values(ascending=False)"
   ]
  },
  {
   "cell_type": "code",
   "execution_count": 23,
   "metadata": {},
   "outputs": [
    {
     "name": "stderr",
     "output_type": "stream",
     "text": [
      "No handles with labels found to put in legend.\n"
     ]
    },
    {
     "data": {
      "image/png": "[encoded data removed]",
      "text/plain": [
       "<Figure size 432x288 with 1 Axes>"
      ]
     },
     "metadata": {
      "needs_background": "light"
     },
     "output_type": "display_data"
    }
   ],
   "source": [
    "import matplotlib.pyplot as plt\n",
    "import seaborn as sns\n",
    "%matplotlib inline\n",
    "# Creating a bar plot\n",
    "sns.barplot(x=features, y=features.index)\n",
    "# Add labels to your graph\n",
    "plt.xlabel('Feature Importance Score')\n",
    "plt.ylabel('Features')\n",
    "plt.title(\"Visualizing Important Features\")\n",
    "plt.legend()\n",
    "plt.show()"
   ]
  },
  {
   "cell_type": "code",
   "execution_count": 24,
   "metadata": {},
   "outputs": [
    {
     "name": "stdout",
     "output_type": "stream",
     "text": [
      "[0.01075318 0.76627911 0.06224835 0.16071935]\n"
     ]
    },
    {
     "data": {
      "image/png": "[encoded data removed]",
      "text/plain": [
       "<Figure size 432x288 with 1 Axes>"
      ]
     },
     "metadata": {
      "needs_background": "light"
     },
     "output_type": "display_data"
    }
   ],
   "source": [
    "import pandas as pd\n",
    "import numpy as np\n",
    "from sklearn.ensemble import ExtraTreesClassifier\n",
    "import matplotlib.pyplot as plt\n",
    "model = ExtraTreesClassifier()\n",
    "model.fit(X,y)\n",
    "print(model.feature_importances_) #use inbuilt class feature_importances of tree based classifiers\n",
    "#plot graph of feature importances for better visualization\n",
    "feat_importances = pd.Series(model.feature_importances_, index=Dataset.columns[range(0,4)])\n",
    "feat_importances.nlargest(10).plot(kind='barh')\n",
    "plt.show()"
   ]
  },
  {
   "cell_type": "code",
   "execution_count": 25,
   "metadata": {},
   "outputs": [
    {
     "data": {
      "image/png": "[encoded data removed]",
      "text/plain": [
       "<Figure size 720x720 with 2 Axes>"
      ]
     },
     "metadata": {
      "needs_background": "light"
     },
     "output_type": "display_data"
    }
   ],
   "source": [
    "import pandas as pd\n",
    "import numpy as np\n",
    "import seaborn as sns\n",
    "#get correlations of each features in dataset\n",
    "corrmat = Dataset.corr()\n",
    "top_corr_features = corrmat.index\n",
    "plt.figure(figsize=(10,10))\n",
    "#plot heat map\n",
    "g=sns.heatmap(Dataset[top_corr_features].corr(),annot=True,cmap=\"RdYlGn\")"
   ]
  },
  {
   "cell_type": "code",
   "execution_count": 26,
   "metadata": {},
   "outputs": [
    {
     "data": {
      "text/plain": [
       "array([[ 404,  325],\n",
       "       [ 449, 1377]], dtype=int64)"
      ]
     },
     "execution_count": 26,
     "metadata": {},
     "output_type": "execute_result"
    }
   ],
   "source": [
    "from sklearn import tree\n",
    "clf = tree.DecisionTreeClassifier()\n",
    "clf = clf.fit(X_train, y_train)\n",
    "predictions = clf.predict(X_test)\n",
    "cm = confusion_matrix(y_test,predictions)\n",
    "cm"
   ]
  },
  {
   "cell_type": "code",
   "execution_count": null,
   "metadata": {},
   "outputs": [],
   "source": []
  }
 ],
 "metadata": {
  "kernelspec": {
   "display_name": "Python 3",
   "language": "python",
   "name": "python3"
  },
  "language_info": {
   "codemirror_mode": {
    "name": "ipython",
    "version": 3
   },
   "file_extension": ".py",
   "mimetype": "text/x-python",
   "name": "python",
   "nbconvert_exporter": "python",
   "pygments_lexer": "ipython3",
   "version": "3.8.3"
  }
 },
 "nbformat": 4,
 "nbformat_minor": 4
}
