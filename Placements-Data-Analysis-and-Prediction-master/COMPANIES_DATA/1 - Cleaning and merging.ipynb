{
 "cells": [
  {
   "cell_type": "code",
   "execution_count": 1,
   "id": "forced-classics",
   "metadata": {},
   "outputs": [],
   "source": [
    "#importing required libraries\n",
    "\n",
    "import pandas as pd\n",
    "import numpy as np\n",
    "from matplotlib import pyplot as plt\n",
    "import re"
   ]
  },
  {
   "cell_type": "markdown",
   "id": "aggressive-tournament",
   "metadata": {},
   "source": [
    "# Data Loading"
   ]
  },
  {
   "cell_type": "code",
   "execution_count": 2,
   "id": "proved-literature",
   "metadata": {},
   "outputs": [],
   "source": [
    "#loading the csv files and storing them in variables\n",
    "pl10=pd.read_csv('datasets/placements10.csv')\n",
    "pl11=pd.read_csv('datasets/placements11.csv')\n",
    "pl12=pd.read_csv('datasets/placements12.csv')\n",
    "pl13=pd.read_csv('datasets/placements13.csv')\n",
    "pl14=pd.read_csv('datasets/placements14.csv')\n",
    "pl15=pd.read_csv('datasets/placements15.csv')\n",
    "pl16=pd.read_csv('datasets/placements16.csv')\n",
    "pl17=pd.read_csv('datasets/placements17.csv')\n",
    "pl18=pd.read_csv('datasets/placements18.csv')\n",
    "pl19=pd.read_csv('datasets/placements19.csv')\n",
    "pl20=pd.read_csv('datasets/placements20.csv')\n",
    "pl21=pd.read_csv('datasets/placements21.csv')"
   ]
  },
  {
   "cell_type": "markdown",
   "id": "incorrect-liabilities",
   "metadata": {},
   "source": [
    "# Data Cleaning"
   ]
  },
  {
   "cell_type": "code",
   "execution_count": 3,
   "id": "broadband-theme",
   "metadata": {},
   "outputs": [],
   "source": [
    "#removing null values and replacing them with 0\n",
    "pl10.fillna(0,inplace=True)\n",
    "pl11.fillna(0,inplace=True)\n",
    "pl12.fillna(0,inplace=True)\n",
    "pl13.fillna(0,inplace=True)\n",
    "pl14.fillna(0,inplace=True)\n",
    "pl15.fillna(0,inplace=True)\n",
    "pl16.fillna(0,inplace=True)\n",
    "pl17.fillna(0,inplace=True)\n",
    "pl18.fillna(0,inplace=True)\n",
    "pl19.fillna(0,inplace=True)\n",
    "pl20.fillna(0,inplace=True)\n",
    "pl21.fillna(0,inplace=True)"
   ]
  },
  {
   "cell_type": "code",
   "execution_count": 4,
   "id": "defined-approach",
   "metadata": {},
   "outputs": [],
   "source": [
    "#deleting unnecessary columns\n",
    "del pl10['S. No.']\n",
    "del pl11['S. No.']\n",
    "del pl12['S. No.']\n",
    "del pl13['S. No.']\n",
    "del pl14['S. No.']\n",
    "del pl15['S. No.']\n",
    "del pl16['S. No.']\n",
    "del pl17['S. No.']\n",
    "del pl18['S. No.']\n",
    "del pl19['Sl.No.']\n",
    "del pl20['Sl. No.']\n",
    "del pl21['Sl.No.']"
   ]
  },
  {
   "cell_type": "code",
   "execution_count": 5,
   "id": "tropical-franklin",
   "metadata": {},
   "outputs": [],
   "source": [
    "#Checking data types \n"
   ]
  },
  {
   "cell_type": "code",
   "execution_count": 6,
   "id": "thrown-payment",
   "metadata": {
    "scrolled": true
   },
   "outputs": [
    {
     "data": {
      "text/plain": [
       "Index(['Name of the Organization', 'Salary Per\\nAnnum (Rs. In Lakhs)', 'ECE',\n",
       "       'CSE', 'EEE', 'IT', 'MECH', 'PROD', 'CIVIL', 'CHEM', 'BIO- TECH', 'MCA',\n",
       "       'MTech/ CSE', 'MTech/ CNIS', 'M.E/ ECE', 'ME / VLSI', 'M.E/ EEE',\n",
       "       'M.E/\\nCad/Cam', 'ME/ THERMAL', 'ME/ CIVIL', 'MBA', 'TOTAL'],\n",
       "      dtype='object')"
      ]
     },
     "execution_count": 6,
     "metadata": {},
     "output_type": "execute_result"
    }
   ],
   "source": [
    "pl16.columns"
   ]
  },
  {
   "cell_type": "code",
   "execution_count": 7,
   "id": "valuable-pledge",
   "metadata": {},
   "outputs": [
    {
     "name": "stdout",
     "output_type": "stream",
     "text": [
      "0    3.0\n",
      "1    0.0\n",
      "2    0.0\n",
      "3    0.0\n",
      "4    0.0\n",
      "Name: CSE, dtype: float64\n",
      "0    7\n",
      "1    5\n",
      "2    1\n",
      "3    3\n",
      "4    2\n",
      "Name: TOTAL, dtype: int64\n"
     ]
    }
   ],
   "source": [
    "print(pl16['CSE'].head())\n",
    "print(pl16['TOTAL'].head())"
   ]
  },
  {
   "cell_type": "code",
   "execution_count": 8,
   "id": "secondary-lewis",
   "metadata": {},
   "outputs": [],
   "source": [
    "#pl20[pl20['CSE']>10]"
   ]
  },
  {
   "cell_type": "code",
   "execution_count": 9,
   "id": "political-watershed",
   "metadata": {},
   "outputs": [],
   "source": [
    "#renaming and rearranging the columns"
   ]
  },
  {
   "cell_type": "code",
   "execution_count": 10,
   "id": "handy-millennium",
   "metadata": {},
   "outputs": [
    {
     "name": "stdout",
     "output_type": "stream",
     "text": [
      "Index(['Name of the Organization', 'Salary Per Annum (Rs. In Lakhs)', 'ECE',\n",
      "       'CSE', 'EEE', 'IT', 'MECH', 'PROD', 'CIVIL', 'CHEM', 'BIO- TECH', 'MCA',\n",
      "       'M.E/ CSE', 'M.E/ ECE', 'M.E/ EEE', 'M.E/\\nCad/Cam', 'ME/ CIVIL', 'MBA',\n",
      "       'TOTAL'],\n",
      "      dtype='object')\n",
      "Index(['Name of the Organization', 'Salary Per Annum (Rs. In Lakhs)', 'ECE',\n",
      "       'CSE', 'EEE', 'IT', 'MECH', 'PROD', 'CIVIL', 'CHEM', 'BIO- TECH', 'MCA',\n",
      "       'M.E/ CSE', 'M.E/ ECE', 'M.E/ EEE', 'M.E/\\nCad/Cam', 'ME/ CIVIL', 'MBA',\n",
      "       'TOTAL'],\n",
      "      dtype='object')\n",
      "Index(['Name of the Organization', 'Salary Per Annum (Rs. In Lakhs)', 'ECE',\n",
      "       'CSE', 'EEE', 'IT', 'MECH', 'PROD', 'CIVIL', 'CHEM', 'BIO- TECH', 'MCA',\n",
      "       'M.E/ CSE', 'M.E/ ECE', 'M.E/ EEE', 'M.E/\\nCad/Cam', 'ME/ CIVIL', 'MBA',\n",
      "       'TOTAL'],\n",
      "      dtype='object')\n",
      "Index(['Name of the Organization', 'Salary Per Annum (Rs.\\nIn Lakhs)', 'ECE',\n",
      "       'CSE', 'EEE', 'IT', 'MECH', 'PROD', 'CIVIL', 'CHEM', 'BIO- TECH', 'MCA',\n",
      "       'M.E/ CSE', 'M.E/ ECE', 'M.E/ EEE', 'M.E/\\nCad/Cam', 'ME/ CIVIL', 'MBA',\n",
      "       'TOTAL'],\n",
      "      dtype='object')\n",
      "Index(['Name of the Organization', 'Salary Per\\nAnnum (Rs. In Lakhs)', 'ECE',\n",
      "       'CSE', 'EEE', 'IT', 'MECH', 'PROD', 'CIVIL', 'CHEM', 'BIO- TECH', 'MCA',\n",
      "       'M.E/ CSE', 'M.E/ ECE', 'ME / VLSI', 'M.E/ EEE', 'M.E/\\nCad/Cam',\n",
      "       'ME/ THERMAL', 'ME/ CIVIL', 'MBA', 'TOTAL'],\n",
      "      dtype='object')\n",
      "Index(['Name of the Organization', 'Salary Per\\nAnnum (Rs. In Lakhs)', 'ECE',\n",
      "       'CSE', 'EEE', 'IT', 'MECH', 'PROD', 'CIVIL', 'CHEM', 'BIO- TECH', 'MCA',\n",
      "       'MTech/ CSE', 'MTech/ CNIS', 'M.E/ ECE', 'ME / VLSI', 'M.E/ EEE',\n",
      "       'M.E/\\nCad/Cam', 'ME/ THERMAL', 'ME/ CIVIL', 'MBA', 'TOTAL'],\n",
      "      dtype='object')\n",
      "Index(['Name of the Organization', 'Salary Per\\nAnnum (Rs. In Lakhs)', 'ECE',\n",
      "       'CSE', 'EEE', 'IT', 'MECH', 'PROD', 'CIVIL', 'CHEM', 'BIO- TECH', 'MCA',\n",
      "       'MTech/ CSE', 'MTech/ CNIS', 'M.E/ ECE', 'ME / VLSI', 'M.E/ EEE',\n",
      "       'M.E/\\nCad/Cam', 'ME/ THERMAL', 'ME/ CIVIL', 'MBA', 'TOTAL'],\n",
      "      dtype='object')\n",
      "Index(['Name of the Organization', 'Salary Per Annum (Rs.\\nIn Lakhs)', 'ECE',\n",
      "       'CSE', 'EEE', 'IT', 'MECH', 'PROD', 'CIVIL', 'CHEM', 'BIO- TECH', 'MCA',\n",
      "       'MTech/ CSE', 'MTech/ CNIS', 'M.E/ ECE', 'ME / VLSI', 'M.E/ EEE',\n",
      "       'M.E/\\nCad/Cam', 'ME/ THERMAL', 'ME/ CIVIL', 'MBA', 'TOTAL'],\n",
      "      dtype='object')\n",
      "Index(['Name of the Organization', 'Salary P.A (Rs. In Lakhs)', 'ECE', 'CSE',\n",
      "       'EEE', 'IT', 'MECH', 'PROD', 'CIVIL', 'CHEM', 'BIO- TECH', 'MCA',\n",
      "       'MTech/ CSE', 'MTech/ CNIS', 'M.E/ ECE\\nComm', 'ME /\\nVLSI & ESVD',\n",
      "       'M.E/ EEE', 'M.E/\\nCad/Cam', 'ME/ THERMAL', 'ME/ CIVIL', 'MBA',\n",
      "       'TOTAL'],\n",
      "      dtype='object')\n",
      "Index(['Name of the Organization', 'Salary Per Annum\\n(Rs. In Lakhs)',\n",
      "       'Bio- Tech', 'CHEM', 'CIVIL', 'CSE', 'ECE', 'EEE', 'IT', 'MECH', 'PROD',\n",
      "       'MCA', 'MTech\\n/ CSE', 'MTech\\n/ CNIS', 'M.E/ ECE', 'ME / VLSI & ESVD',\n",
      "       'M.E/ EEE', 'M.E/\\nCad/Cam', 'ME/ THERMAL', 'ME/ CIVIL', 'MBA',\n",
      "       'TOTAL'],\n",
      "      dtype='object')\n",
      "Index(['Name of the Organization', 'Salary Per Annum\\n(Rs. In Lakhs)', 'ECE',\n",
      "       'CSE', 'EEE', 'IT', 'MECH', 'PROD', 'CIVIL', 'CHEM', 'Bio- Tech', 'MCA',\n",
      "       'MTech\\n/ CSE', 'MTech\\n/ CNIS', 'M.E/ ECE\\nComm', 'ME /\\nVLSI & ESVD',\n",
      "       'M.E/ EEE', 'M.E/\\nCad/Cam', 'ME/ THERMAL', 'ME/ CIVIL', 'MBA',\n",
      "       'TOTAL'],\n",
      "      dtype='object')\n",
      "Index(['Name of the Organization', 'Salary Per Annum        (Rs. In Lakhs)',\n",
      "       'ECE', 'CSE', 'EEE', 'IT', 'MECH ', 'PROD', 'CIVIL', 'CHEM',\n",
      "       'Bio- Tech', 'MCA', 'MTech/ CSE', 'MTech/ CNIS', 'M.E/   ECE  Comm',\n",
      "       'ME / VLSI & ESVD', 'M.E/ EEE', 'M.E/  Cad/Cam', 'ME/ THERMAL ',\n",
      "       'ME/ Stru', 'MBA', 'TOTAL'],\n",
      "      dtype='object')\n"
     ]
    }
   ],
   "source": [
    "print(pl10.columns)\n",
    "print(pl11.columns)\n",
    "print(pl12.columns)\n",
    "print(pl13.columns)\n",
    "print(pl14.columns)\n",
    "print(pl15.columns)\n",
    "print(pl16.columns)\n",
    "print(pl17.columns)\n",
    "print(pl18.columns)\n",
    "print(pl19.columns)\n",
    "print(pl20.columns)\n",
    "print(pl21.columns)"
   ]
  },
  {
   "cell_type": "code",
   "execution_count": 11,
   "id": "contained-amateur",
   "metadata": {},
   "outputs": [],
   "source": [
    "pl10.rename(columns={'M.E/ CSE':'MTech/ CSE'},inplace=True)"
   ]
  },
  {
   "cell_type": "code",
   "execution_count": 12,
   "id": "focused-worst",
   "metadata": {},
   "outputs": [],
   "source": [
    "pl11.rename(columns={'M.E/ CSE':'MTech/ CSE'},inplace=True)"
   ]
  },
  {
   "cell_type": "code",
   "execution_count": 13,
   "id": "southern-guatemala",
   "metadata": {},
   "outputs": [],
   "source": [
    "pl12.rename(columns={'M.E/ CSE':'MTech/ CSE'},inplace=True)"
   ]
  },
  {
   "cell_type": "code",
   "execution_count": 14,
   "id": "similar-episode",
   "metadata": {},
   "outputs": [],
   "source": [
    "pl13.rename(columns={'Salary Per Annum (Rs.\\nIn Lakhs)':'Salary Per Annum (Rs. In Lakhs)',\n",
    "                     'M.E/ CSE':'MTech/ CSE'},inplace=True)"
   ]
  },
  {
   "cell_type": "code",
   "execution_count": 15,
   "id": "coordinated-pharmaceutical",
   "metadata": {},
   "outputs": [],
   "source": [
    "pl14.rename(columns={'Salary Per\\nAnnum (Rs. In Lakhs)':'Salary Per Annum (Rs. In Lakhs)',\n",
    "                     'M.E/ CSE':'MTech/ CSE'},inplace=True)"
   ]
  },
  {
   "cell_type": "code",
   "execution_count": 16,
   "id": "operational-jacket",
   "metadata": {},
   "outputs": [],
   "source": [
    "pl15.rename(columns={'Salary Per\\nAnnum (Rs. In Lakhs)':'Salary Per Annum (Rs. In Lakhs)'},inplace=True)"
   ]
  },
  {
   "cell_type": "code",
   "execution_count": 17,
   "id": "settled-chorus",
   "metadata": {},
   "outputs": [],
   "source": [
    "pl16.rename(columns={'Salary Per\\nAnnum (Rs. In Lakhs)':'Salary Per Annum (Rs. In Lakhs)'},inplace=True)"
   ]
  },
  {
   "cell_type": "code",
   "execution_count": 18,
   "id": "expensive-nelson",
   "metadata": {},
   "outputs": [],
   "source": [
    "pl17.rename(columns={'Salary Per Annum (Rs.\\nIn Lakhs)':'Salary Per Annum (Rs. In Lakhs)'},inplace=True)"
   ]
  },
  {
   "cell_type": "code",
   "execution_count": 19,
   "id": "complete-times",
   "metadata": {},
   "outputs": [],
   "source": [
    "pl18.rename(columns={'Salary P.A (Rs. In Lakhs)':'Salary Per Annum (Rs. In Lakhs)',\n",
    "                     'M.E/ ECE\\nComm':'M.E/ ECE',\n",
    "                     'ME /\\nVLSI & ESVD':'ME / VLSI'},inplace=True)"
   ]
  },
  {
   "cell_type": "code",
   "execution_count": 20,
   "id": "instrumental-reggae",
   "metadata": {},
   "outputs": [],
   "source": [
    "pl19.rename(columns={'Salary Per Annum\\n(Rs. In Lakhs)':'Salary Per Annum (Rs. In Lakhs)',\n",
    "                     'MTech\\n/ CSE':'MTech/ CSE',\n",
    "                     'MTech\\n/ CNIS':'MTech/ CNIS',\n",
    "                     'Bio- Tech':'BIO- TECH',\n",
    "                     'ME / VLSI & ESVD':'ME / VLSI'},inplace=True)"
   ]
  },
  {
   "cell_type": "code",
   "execution_count": 21,
   "id": "answering-green",
   "metadata": {},
   "outputs": [],
   "source": [
    "pl20.rename(columns={'Salary Per Annum\\n(Rs. In Lakhs)':'Salary Per Annum (Rs. In Lakhs)',\n",
    "                     'MTech\\n/ CSE':'MTech/ CSE',\n",
    "                     'MTech\\n/ CNIS':'MTech/ CNIS',\n",
    "                     'M.E/ ECE\\nComm':'M.E/ ECE',\n",
    "                     'Bio- Tech':'BIO- TECH',\n",
    "                     'ME /\\nVLSI & ESVD':'ME / VLSI'},inplace=True)"
   ]
  },
  {
   "cell_type": "code",
   "execution_count": 22,
   "id": "hairy-parade",
   "metadata": {},
   "outputs": [],
   "source": [
    "pl21.rename(columns={'Salary Per Annum        (Rs. In Lakhs)':'Salary Per Annum (Rs. In Lakhs)',\n",
    "                     'MECH ':'MECH',\n",
    "                     'MTech\\n/ CSE':'MTech/ CSE',\n",
    "                     'MTech\\n/ CNIS':'MTech/ CNIS',\n",
    "                     'M.E/   ECE  Comm':'M.E/ ECE',\n",
    "                     'Bio- Tech':'BIO- TECH',\n",
    "                     'ME / VLSI & ESVD':'ME / VLSI',\n",
    "                     'M.E/  Cad/Cam': 'M.E/\\nCad/Cam',\n",
    "                     'ME/ THERMAL ':'ME/ THERMAL'},inplace=True)"
   ]
  },
  {
   "cell_type": "code",
   "execution_count": 23,
   "id": "twelve-symposium",
   "metadata": {},
   "outputs": [],
   "source": [
    "pl19=pl19[['Name of the Organization', 'Salary Per Annum (Rs. In Lakhs)', 'ECE',\n",
    "       'CSE', 'EEE', 'IT', 'MECH', 'PROD', 'CIVIL', 'CHEM', 'BIO- TECH', 'MCA',\n",
    "       'MTech/ CSE', 'MTech/ CNIS', 'M.E/ ECE', 'ME / VLSI', 'M.E/ EEE',\n",
    "       'M.E/\\nCad/Cam', 'ME/ THERMAL', 'ME/ CIVIL', 'MBA', 'TOTAL']]"
   ]
  },
  {
   "cell_type": "code",
   "execution_count": 24,
   "id": "critical-picking",
   "metadata": {},
   "outputs": [
    {
     "name": "stdout",
     "output_type": "stream",
     "text": [
      "Index(['Name of the Organization', 'Salary Per Annum (Rs. In Lakhs)', 'ECE',\n",
      "       'CSE', 'EEE', 'IT', 'MECH', 'PROD', 'CIVIL', 'CHEM', 'BIO- TECH', 'MCA',\n",
      "       'MTech/ CSE', 'M.E/ ECE', 'M.E/ EEE', 'M.E/\\nCad/Cam', 'ME/ CIVIL',\n",
      "       'MBA', 'TOTAL'],\n",
      "      dtype='object')\n",
      "Index(['Name of the Organization', 'Salary Per Annum (Rs. In Lakhs)', 'ECE',\n",
      "       'CSE', 'EEE', 'IT', 'MECH', 'PROD', 'CIVIL', 'CHEM', 'BIO- TECH', 'MCA',\n",
      "       'MTech/ CSE', 'M.E/ ECE', 'M.E/ EEE', 'M.E/\\nCad/Cam', 'ME/ CIVIL',\n",
      "       'MBA', 'TOTAL'],\n",
      "      dtype='object')\n",
      "Index(['Name of the Organization', 'Salary Per Annum (Rs. In Lakhs)', 'ECE',\n",
      "       'CSE', 'EEE', 'IT', 'MECH', 'PROD', 'CIVIL', 'CHEM', 'BIO- TECH', 'MCA',\n",
      "       'MTech/ CSE', 'M.E/ ECE', 'M.E/ EEE', 'M.E/\\nCad/Cam', 'ME/ CIVIL',\n",
      "       'MBA', 'TOTAL'],\n",
      "      dtype='object')\n",
      "Index(['Name of the Organization', 'Salary Per Annum (Rs. In Lakhs)', 'ECE',\n",
      "       'CSE', 'EEE', 'IT', 'MECH', 'PROD', 'CIVIL', 'CHEM', 'BIO- TECH', 'MCA',\n",
      "       'MTech/ CSE', 'M.E/ ECE', 'M.E/ EEE', 'M.E/\\nCad/Cam', 'ME/ CIVIL',\n",
      "       'MBA', 'TOTAL'],\n",
      "      dtype='object')\n",
      "Index(['Name of the Organization', 'Salary Per Annum (Rs. In Lakhs)', 'ECE',\n",
      "       'CSE', 'EEE', 'IT', 'MECH', 'PROD', 'CIVIL', 'CHEM', 'BIO- TECH', 'MCA',\n",
      "       'MTech/ CSE', 'M.E/ ECE', 'ME / VLSI', 'M.E/ EEE', 'M.E/\\nCad/Cam',\n",
      "       'ME/ THERMAL', 'ME/ CIVIL', 'MBA', 'TOTAL'],\n",
      "      dtype='object')\n",
      "Index(['Name of the Organization', 'Salary Per Annum (Rs. In Lakhs)', 'ECE',\n",
      "       'CSE', 'EEE', 'IT', 'MECH', 'PROD', 'CIVIL', 'CHEM', 'BIO- TECH', 'MCA',\n",
      "       'MTech/ CSE', 'MTech/ CNIS', 'M.E/ ECE', 'ME / VLSI', 'M.E/ EEE',\n",
      "       'M.E/\\nCad/Cam', 'ME/ THERMAL', 'ME/ CIVIL', 'MBA', 'TOTAL'],\n",
      "      dtype='object')\n",
      "Index(['Name of the Organization', 'Salary Per Annum (Rs. In Lakhs)', 'ECE',\n",
      "       'CSE', 'EEE', 'IT', 'MECH', 'PROD', 'CIVIL', 'CHEM', 'BIO- TECH', 'MCA',\n",
      "       'MTech/ CSE', 'MTech/ CNIS', 'M.E/ ECE', 'ME / VLSI', 'M.E/ EEE',\n",
      "       'M.E/\\nCad/Cam', 'ME/ THERMAL', 'ME/ CIVIL', 'MBA', 'TOTAL'],\n",
      "      dtype='object')\n",
      "Index(['Name of the Organization', 'Salary Per Annum (Rs. In Lakhs)', 'ECE',\n",
      "       'CSE', 'EEE', 'IT', 'MECH', 'PROD', 'CIVIL', 'CHEM', 'BIO- TECH', 'MCA',\n",
      "       'MTech/ CSE', 'MTech/ CNIS', 'M.E/ ECE', 'ME / VLSI', 'M.E/ EEE',\n",
      "       'M.E/\\nCad/Cam', 'ME/ THERMAL', 'ME/ CIVIL', 'MBA', 'TOTAL'],\n",
      "      dtype='object')\n",
      "Index(['Name of the Organization', 'Salary Per Annum (Rs. In Lakhs)', 'ECE',\n",
      "       'CSE', 'EEE', 'IT', 'MECH', 'PROD', 'CIVIL', 'CHEM', 'BIO- TECH', 'MCA',\n",
      "       'MTech/ CSE', 'MTech/ CNIS', 'M.E/ ECE', 'ME / VLSI', 'M.E/ EEE',\n",
      "       'M.E/\\nCad/Cam', 'ME/ THERMAL', 'ME/ CIVIL', 'MBA', 'TOTAL'],\n",
      "      dtype='object')\n",
      "Index(['Name of the Organization', 'Salary Per Annum (Rs. In Lakhs)', 'ECE',\n",
      "       'CSE', 'EEE', 'IT', 'MECH', 'PROD', 'CIVIL', 'CHEM', 'BIO- TECH', 'MCA',\n",
      "       'MTech/ CSE', 'MTech/ CNIS', 'M.E/ ECE', 'ME / VLSI', 'M.E/ EEE',\n",
      "       'M.E/\\nCad/Cam', 'ME/ THERMAL', 'ME/ CIVIL', 'MBA', 'TOTAL'],\n",
      "      dtype='object')\n",
      "Index(['Name of the Organization', 'Salary Per Annum (Rs. In Lakhs)', 'ECE',\n",
      "       'CSE', 'EEE', 'IT', 'MECH', 'PROD', 'CIVIL', 'CHEM', 'BIO- TECH', 'MCA',\n",
      "       'MTech/ CSE', 'MTech/ CNIS', 'M.E/ ECE', 'ME / VLSI', 'M.E/ EEE',\n",
      "       'M.E/\\nCad/Cam', 'ME/ THERMAL', 'ME/ CIVIL', 'MBA', 'TOTAL'],\n",
      "      dtype='object')\n",
      "Index(['Name of the Organization', 'Salary Per Annum (Rs. In Lakhs)', 'ECE',\n",
      "       'CSE', 'EEE', 'IT', 'MECH', 'PROD', 'CIVIL', 'CHEM', 'BIO- TECH', 'MCA',\n",
      "       'MTech/ CSE', 'MTech/ CNIS', 'M.E/ ECE', 'ME / VLSI', 'M.E/ EEE',\n",
      "       'M.E/\\nCad/Cam', 'ME/ THERMAL', 'ME/ Stru', 'MBA', 'TOTAL'],\n",
      "      dtype='object')\n"
     ]
    }
   ],
   "source": [
    "print(pl10.columns)\n",
    "print(pl11.columns)\n",
    "print(pl12.columns)\n",
    "print(pl13.columns)\n",
    "print(pl14.columns)\n",
    "print(pl15.columns)\n",
    "print(pl16.columns)\n",
    "print(pl17.columns)\n",
    "print(pl18.columns)\n",
    "print(pl19.columns)\n",
    "print(pl20.columns)\n",
    "print(pl21.columns)"
   ]
  },
  {
   "cell_type": "markdown",
   "id": "interpreted-mandate",
   "metadata": {},
   "source": [
    "# Exporting the cleaned files"
   ]
  },
  {
   "cell_type": "code",
   "execution_count": 25,
   "id": "peaceful-invention",
   "metadata": {},
   "outputs": [],
   "source": [
    "#pl10.to_csv('cleaned/pl10.csv',index=False)\n",
    "#pl11.to_csv('cleaned/pl11.csv',index=False)\n",
    "#pl12.to_csv('cleaned/pl12.csv',index=False)\n",
    "#pl13.to_csv('cleaned/pl13.csv',index=False)\n",
    "#pl14.to_csv('cleaned/pl14.csv',index=False)\n",
    "#pl15.to_csv('cleaned/pl15.csv',index=False)\n",
    "#pl16.to_csv('cleaned/pl16.csv',index=False)\n",
    "#pl17.to_csv('cleaned/pl17.csv',index=False)\n",
    "#pl18.to_csv('cleaned/pl18.csv',index=False)\n",
    "#pl19.to_csv('cleaned/pl19.csv',index=False)\n",
    "#pl20.to_csv('cleaned/pl20.csv',index=False)\n",
    "#pl21.to_csv('cleaned/pl21.csv',index=False)"
   ]
  },
  {
   "cell_type": "markdown",
   "id": "saving-forge",
   "metadata": {},
   "source": [
    "# Working with the datasets"
   ]
  },
  {
   "cell_type": "markdown",
   "id": "rotary-passport",
   "metadata": {},
   "source": [
    "## Adding the dataframes to get 10yrs cumulative data"
   ]
  },
  {
   "cell_type": "code",
   "execution_count": 26,
   "id": "respected-satellite",
   "metadata": {},
   "outputs": [],
   "source": [
    "#storing required columns from original dataframes in new variables\n",
    "\n",
    "p10=pl10[['Name of the Organization', 'ECE',\n",
    "       'CSE', 'EEE', 'IT', 'MECH', 'PROD', 'CIVIL', 'CHEM', 'BIO- TECH', 'MCA',\n",
    "       'MTech/ CSE', 'M.E/ ECE', 'M.E/ EEE', 'M.E/\\nCad/Cam', 'ME/ CIVIL',\n",
    "       'MBA', 'TOTAL']]\n",
    "\n",
    "p11=pl11[['Name of the Organization', 'ECE',\n",
    "       'CSE', 'EEE', 'IT', 'MECH', 'PROD', 'CIVIL', 'CHEM', 'BIO- TECH', 'MCA',\n",
    "       'MTech/ CSE', 'M.E/ ECE', 'M.E/ EEE', 'M.E/\\nCad/Cam', 'ME/ CIVIL',\n",
    "       'MBA', 'TOTAL']]\n",
    "\n",
    "p12=pl12[['Name of the Organization', 'ECE',\n",
    "       'CSE', 'EEE', 'IT', 'MECH', 'PROD', 'CIVIL', 'CHEM', 'BIO- TECH', 'MCA',\n",
    "       'MTech/ CSE', 'M.E/ ECE', 'M.E/ EEE', 'M.E/\\nCad/Cam', 'ME/ CIVIL',\n",
    "       'MBA', 'TOTAL']]\n",
    "\n",
    "p13=pl13[['Name of the Organization', 'ECE',\n",
    "       'CSE', 'EEE', 'IT', 'MECH', 'PROD', 'CIVIL', 'CHEM', 'BIO- TECH', 'MCA',\n",
    "       'MTech/ CSE', 'M.E/ ECE', 'M.E/ EEE', 'M.E/\\nCad/Cam', 'ME/ CIVIL',\n",
    "       'MBA', 'TOTAL']]\n",
    "\n",
    "p14=pl14[['Name of the Organization', 'ECE',\n",
    "       'CSE', 'EEE', 'IT', 'MECH', 'PROD', 'CIVIL', 'CHEM', 'BIO- TECH', 'MCA',\n",
    "       'MTech/ CSE', 'M.E/ ECE', 'ME / VLSI', 'M.E/ EEE', 'M.E/\\nCad/Cam',\n",
    "       'ME/ THERMAL', 'ME/ CIVIL', 'MBA', 'TOTAL']]\n",
    "\n",
    "p15=pl15[['Name of the Organization', 'ECE',\n",
    "       'CSE', 'EEE', 'IT', 'MECH', 'PROD', 'CIVIL', 'CHEM', 'BIO- TECH', 'MCA',\n",
    "       'MTech/ CSE', 'MTech/ CNIS', 'M.E/ ECE', 'ME / VLSI', 'M.E/ EEE',\n",
    "       'M.E/\\nCad/Cam', 'ME/ THERMAL', 'ME/ CIVIL', 'MBA', 'TOTAL']]\n",
    "\n",
    "p16=pl16[['Name of the Organization', 'ECE',\n",
    "       'CSE', 'EEE', 'IT', 'MECH', 'PROD', 'CIVIL', 'CHEM', 'BIO- TECH', 'MCA',\n",
    "       'MTech/ CSE', 'MTech/ CNIS', 'M.E/ ECE', 'ME / VLSI', 'M.E/ EEE',\n",
    "       'M.E/\\nCad/Cam', 'ME/ THERMAL', 'ME/ CIVIL', 'MBA', 'TOTAL']]\n",
    "\n",
    "p17=pl17[['Name of the Organization', 'ECE',\n",
    "       'CSE', 'EEE', 'IT', 'MECH', 'PROD', 'CIVIL', 'CHEM', 'BIO- TECH', 'MCA',\n",
    "       'MTech/ CSE', 'MTech/ CNIS', 'M.E/ ECE', 'ME / VLSI', 'M.E/ EEE',\n",
    "       'M.E/\\nCad/Cam', 'ME/ THERMAL', 'ME/ CIVIL', 'MBA', 'TOTAL']]\n",
    "\n",
    "p18=pl18[['Name of the Organization', 'ECE',\n",
    "       'CSE', 'EEE', 'IT', 'MECH', 'PROD', 'CIVIL', 'CHEM', 'BIO- TECH', 'MCA',\n",
    "       'MTech/ CSE', 'MTech/ CNIS', 'M.E/ ECE', 'ME / VLSI', 'M.E/ EEE',\n",
    "       'M.E/\\nCad/Cam', 'ME/ THERMAL', 'ME/ CIVIL', 'MBA', 'TOTAL']]\n",
    "\n",
    "p19=pl19[['Name of the Organization', 'ECE',\n",
    "       'CSE', 'EEE', 'IT', 'MECH', 'PROD', 'CIVIL', 'CHEM', 'BIO- TECH', 'MCA',\n",
    "       'MTech/ CSE', 'MTech/ CNIS', 'M.E/ ECE', 'ME / VLSI', 'M.E/ EEE',\n",
    "       'M.E/\\nCad/Cam', 'ME/ THERMAL', 'ME/ CIVIL', 'MBA', 'TOTAL']]\n",
    "\n",
    "p20=pl20[['Name of the Organization', 'ECE',\n",
    "       'CSE', 'EEE', 'IT', 'MECH', 'PROD', 'CIVIL', 'CHEM', 'BIO- TECH', 'MCA',\n",
    "       'MTech/ CSE', 'MTech/ CNIS', 'M.E/ ECE', 'ME / VLSI', 'M.E/ EEE',\n",
    "       'M.E/\\nCad/Cam', 'ME/ THERMAL', 'ME/ CIVIL', 'MBA', 'TOTAL']]\n",
    "\n",
    "p21=pl21[['Name of the Organization', 'ECE',\n",
    "       'CSE', 'EEE', 'IT', 'MECH', 'PROD', 'CIVIL', 'CHEM', 'BIO- TECH', 'MCA',\n",
    "       'MTech/ CSE', 'MTech/ CNIS', 'M.E/ ECE', 'ME / VLSI', 'M.E/ EEE',\n",
    "       'M.E/\\nCad/Cam', 'ME/ THERMAL', 'ME/ Stru', 'MBA', 'TOTAL']]"
   ]
  },
  {
   "cell_type": "code",
   "execution_count": 27,
   "id": "extraordinary-nashville",
   "metadata": {},
   "outputs": [],
   "source": [
    "#setting the \"Name of the Organization\" as the index of the new dataframes \n",
    "\n",
    "p10.set_index('Name of the Organization',inplace=True)\n",
    "p11.set_index('Name of the Organization',inplace=True)\n",
    "p12.set_index('Name of the Organization',inplace=True)\n",
    "p13.set_index('Name of the Organization',inplace=True)\n",
    "p14.set_index('Name of the Organization',inplace=True)\n",
    "p15.set_index('Name of the Organization',inplace=True)\n",
    "p16.set_index('Name of the Organization',inplace=True)\n",
    "p17.set_index('Name of the Organization',inplace=True)\n",
    "p18.set_index('Name of the Organization',inplace=True)\n",
    "p19.set_index('Name of the Organization',inplace=True)\n",
    "p20.set_index('Name of the Organization',inplace=True)\n",
    "p21.set_index('Name of the Organization',inplace=True)"
   ]
  },
  {
   "cell_type": "code",
   "execution_count": 28,
   "id": "roman-treat",
   "metadata": {},
   "outputs": [],
   "source": [
    "#converting the strings to uppercase & removing whitespaces to avoid discrepancies \n",
    "\n",
    "p10.index=p10.index.str.upper().str.strip()\n",
    "p11.index=p11.index.str.upper().str.strip()\n",
    "p12.index=p12.index.str.upper().str.strip()\n",
    "p13.index=p13.index.str.upper().str.strip()\n",
    "p14.index=p14.index.str.upper().str.strip()\n",
    "p15.index=p15.index.str.upper().str.strip()\n",
    "p16.index=p16.index.str.upper().str.strip()\n",
    "p17.index=p17.index.str.upper().str.strip()\n",
    "p18.index=p18.index.str.upper().str.strip()\n",
    "p19.index=p19.index.str.upper().str.strip()\n",
    "p20.index=p20.index.str.upper().str.strip()\n",
    "p21.index=p21.index.str.upper().str.strip()"
   ]
  },
  {
   "cell_type": "code",
   "execution_count": 29,
   "id": "selected-strap",
   "metadata": {},
   "outputs": [],
   "source": [
    "#adding data of 2010 and 2011"
   ]
  },
  {
   "cell_type": "code",
   "execution_count": 30,
   "id": "musical-domestic",
   "metadata": {},
   "outputs": [],
   "source": [
    "pm=pd.merge(p10,p11,how='outer',on='Name of the Organization')"
   ]
  },
  {
   "cell_type": "code",
   "execution_count": 31,
   "id": "dimensional-depression",
   "metadata": {},
   "outputs": [],
   "source": [
    "pm.fillna(0,inplace=True)"
   ]
  },
  {
   "cell_type": "code",
   "execution_count": 32,
   "id": "operational-farmer",
   "metadata": {},
   "outputs": [],
   "source": [
    "#adding values of left and right dataframes and storing them in new columns\n",
    "\n",
    "pm['ECE']=pm['ECE_x']+pm['ECE_y']\n",
    "pm['CSE']=pm['CSE_x']+pm['CSE_y']\n",
    "pm['EEE']=pm['EEE_x']+pm['EEE_y']\n",
    "pm['IT']=pm['IT_x']+pm['IT_y']\n",
    "pm['MECH']=pm['MECH_x']+pm['MECH_y']\n",
    "pm['PROD']=pm['PROD_x']+pm['PROD_y']\n",
    "pm['CIVIL']=pm['CIVIL_x']+pm['CIVIL_y']\n",
    "pm['CHEM']=pm['CHEM_x']+pm['CHEM_y']\n",
    "pm['BIO- TECH']=pm['BIO- TECH_x']+pm['BIO- TECH_y']\n",
    "pm['MCA']=pm['MCA_x']+pm['MCA_y']\n",
    "pm['MTech/ CSE']=pm['MTech/ CSE_x']+pm['MTech/ CSE_y']\n",
    "pm['M.E/ ECE']=pm['M.E/ ECE_x']+pm['M.E/ ECE_y']\n",
    "pm['M.E/ EEE']=pm['M.E/ EEE_x']+pm['M.E/ EEE_y']\n",
    "pm['M.E/\\nCad/Cam']=pm['M.E/\\nCad/Cam_x']+pm['M.E/\\nCad/Cam_y']\n",
    "pm['ME/ CIVIL']=pm['ME/ CIVIL_x']+pm['ME/ CIVIL_y']\n",
    "pm['MBA']=pm['MBA_x']+pm['MBA_y']\n",
    "pm['TOTAL']=pm['TOTAL_x']+pm['TOTAL_y']"
   ]
  },
  {
   "cell_type": "code",
   "execution_count": 33,
   "id": "sapphire-morning",
   "metadata": {},
   "outputs": [],
   "source": [
    "#drop the unnecessary columns\n",
    "\n",
    "pm.drop(['ECE_x', 'CSE_x', 'EEE_x', 'IT_x', 'MECH_x', 'PROD_x', 'CIVIL_x',\n",
    "       'CHEM_x', 'BIO- TECH_x', 'MCA_x', 'MTech/ CSE_x', 'M.E/ ECE_x',\n",
    "       'M.E/ EEE_x', 'M.E/\\nCad/Cam_x', 'ME/ CIVIL_x', 'MBA_x', 'TOTAL_x',\n",
    "       'ECE_y', 'CSE_y', 'EEE_y', 'IT_y', 'MECH_y', 'PROD_y', 'CIVIL_y',\n",
    "       'CHEM_y', 'BIO- TECH_y', 'MCA_y', 'MTech/ CSE_y', 'M.E/ ECE_y',\n",
    "       'M.E/ EEE_y', 'M.E/\\nCad/Cam_y', 'ME/ CIVIL_y', 'MBA_y', 'TOTAL_y'],axis=1,inplace=True)"
   ]
  },
  {
   "cell_type": "code",
   "execution_count": 34,
   "id": "rocky-amber",
   "metadata": {},
   "outputs": [],
   "source": [
    "#adding data of 2010,2011 and 2012"
   ]
  },
  {
   "cell_type": "code",
   "execution_count": 35,
   "id": "third-heaven",
   "metadata": {},
   "outputs": [],
   "source": [
    "pm=pd.merge(pm,p12,how='outer',on='Name of the Organization')"
   ]
  },
  {
   "cell_type": "code",
   "execution_count": 36,
   "id": "happy-figure",
   "metadata": {},
   "outputs": [],
   "source": [
    "pm.fillna(0,inplace=True)"
   ]
  },
  {
   "cell_type": "code",
   "execution_count": 37,
   "id": "strong-investment",
   "metadata": {},
   "outputs": [],
   "source": [
    "#adding values of left and right dataframes and storing them in new columns\n",
    "\n",
    "pm['ECE']=pm['ECE_x']+pm['ECE_y']\n",
    "pm['CSE']=pm['CSE_x']+pm['CSE_y']\n",
    "pm['EEE']=pm['EEE_x']+pm['EEE_y']\n",
    "pm['IT']=pm['IT_x']+pm['IT_y']\n",
    "pm['MECH']=pm['MECH_x']+pm['MECH_y']\n",
    "pm['PROD']=pm['PROD_x']+pm['PROD_y']\n",
    "pm['CIVIL']=pm['CIVIL_x']+pm['CIVIL_y']\n",
    "pm['CHEM']=pm['CHEM_x']+pm['CHEM_y']\n",
    "pm['BIO- TECH']=pm['BIO- TECH_x']+pm['BIO- TECH_y']\n",
    "pm['MCA']=pm['MCA_x']+pm['MCA_y']\n",
    "pm['MTech/ CSE']=pm['MTech/ CSE_x']+pm['MTech/ CSE_y']\n",
    "pm['M.E/ ECE']=pm['M.E/ ECE_x']+pm['M.E/ ECE_y']\n",
    "pm['M.E/ EEE']=pm['M.E/ EEE_x']+pm['M.E/ EEE_y']\n",
    "pm['M.E/\\nCad/Cam']=pm['M.E/\\nCad/Cam_x']+pm['M.E/\\nCad/Cam_y']\n",
    "pm['ME/ CIVIL']=pm['ME/ CIVIL_x']+pm['ME/ CIVIL_y']\n",
    "pm['MBA']=pm['MBA_x']+pm['MBA_y']\n",
    "pm['TOTAL']=pm['TOTAL_x']+pm['TOTAL_y']"
   ]
  },
  {
   "cell_type": "code",
   "execution_count": 38,
   "id": "competent-tyler",
   "metadata": {},
   "outputs": [
    {
     "data": {
      "text/plain": [
       "Index(['ECE_x', 'CSE_x', 'EEE_x', 'IT_x', 'MECH_x', 'PROD_x', 'CIVIL_x',\n",
       "       'CHEM_x', 'BIO- TECH_x', 'MCA_x', 'MTech/ CSE_x', 'M.E/ ECE_x',\n",
       "       'M.E/ EEE_x', 'M.E/\\nCad/Cam_x', 'ME/ CIVIL_x', 'MBA_x', 'TOTAL_x',\n",
       "       'ECE_y', 'CSE_y', 'EEE_y', 'IT_y', 'MECH_y', 'PROD_y', 'CIVIL_y',\n",
       "       'CHEM_y', 'BIO- TECH_y', 'MCA_y', 'MTech/ CSE_y', 'M.E/ ECE_y',\n",
       "       'M.E/ EEE_y', 'M.E/\\nCad/Cam_y', 'ME/ CIVIL_y', 'MBA_y', 'TOTAL_y',\n",
       "       'ECE', 'CSE', 'EEE', 'IT', 'MECH', 'PROD', 'CIVIL', 'CHEM', 'BIO- TECH',\n",
       "       'MCA', 'MTech/ CSE', 'M.E/ ECE', 'M.E/ EEE', 'M.E/\\nCad/Cam',\n",
       "       'ME/ CIVIL', 'MBA', 'TOTAL'],\n",
       "      dtype='object')"
      ]
     },
     "execution_count": 38,
     "metadata": {},
     "output_type": "execute_result"
    }
   ],
   "source": [
    "pm.columns"
   ]
  },
  {
   "cell_type": "code",
   "execution_count": 39,
   "id": "dated-airfare",
   "metadata": {},
   "outputs": [],
   "source": [
    "#drop the unnecessary columns\n",
    "\n",
    "pm.drop(['ECE_x', 'CSE_x', 'EEE_x', 'IT_x', 'MECH_x', 'PROD_x', 'CIVIL_x',\n",
    "       'CHEM_x', 'BIO- TECH_x', 'MCA_x', 'MTech/ CSE_x', 'M.E/ ECE_x',\n",
    "       'M.E/ EEE_x', 'M.E/\\nCad/Cam_x', 'ME/ CIVIL_x', 'MBA_x', 'TOTAL_x',\n",
    "       'ECE_y', 'CSE_y', 'EEE_y', 'IT_y', 'MECH_y', 'PROD_y', 'CIVIL_y',\n",
    "       'CHEM_y', 'BIO- TECH_y', 'MCA_y', 'MTech/ CSE_y', 'M.E/ ECE_y',\n",
    "       'M.E/ EEE_y', 'M.E/\\nCad/Cam_y', 'ME/ CIVIL_y', 'MBA_y', 'TOTAL_y'],axis=1,inplace=True)"
   ]
  },
  {
   "cell_type": "code",
   "execution_count": 40,
   "id": "initial-carrier",
   "metadata": {},
   "outputs": [],
   "source": [
    "#adding data of 2010,2011,2012 and 2013"
   ]
  },
  {
   "cell_type": "code",
   "execution_count": 41,
   "id": "convertible-palmer",
   "metadata": {},
   "outputs": [],
   "source": [
    "pm=pd.merge(pm,p13,how='outer',on='Name of the Organization')"
   ]
  },
  {
   "cell_type": "code",
   "execution_count": 42,
   "id": "operational-lingerie",
   "metadata": {},
   "outputs": [],
   "source": [
    "pm.fillna(0,inplace=True)"
   ]
  },
  {
   "cell_type": "code",
   "execution_count": 43,
   "id": "constitutional-nickel",
   "metadata": {},
   "outputs": [],
   "source": [
    "#adding values of left and right dataframes and storing them in new columns\n",
    "\n",
    "pm['ECE']=pm['ECE_x']+pm['ECE_y']\n",
    "pm['CSE']=pm['CSE_x']+pm['CSE_y']\n",
    "pm['EEE']=pm['EEE_x']+pm['EEE_y']\n",
    "pm['IT']=pm['IT_x']+pm['IT_y']\n",
    "pm['MECH']=pm['MECH_x']+pm['MECH_y']\n",
    "pm['PROD']=pm['PROD_x']+pm['PROD_y']\n",
    "pm['CIVIL']=pm['CIVIL_x']+pm['CIVIL_y']\n",
    "pm['CHEM']=pm['CHEM_x']+pm['CHEM_y']\n",
    "pm['BIO- TECH']=pm['BIO- TECH_x']+pm['BIO- TECH_y']\n",
    "pm['MCA']=pm['MCA_x']+pm['MCA_y']\n",
    "pm['MTech/ CSE']=pm['MTech/ CSE_x']+pm['MTech/ CSE_y']\n",
    "pm['M.E/ ECE']=pm['M.E/ ECE_x']+pm['M.E/ ECE_y']\n",
    "pm['M.E/ EEE']=pm['M.E/ EEE_x']+pm['M.E/ EEE_y']\n",
    "pm['M.E/\\nCad/Cam']=pm['M.E/\\nCad/Cam_x']+pm['M.E/\\nCad/Cam_y']\n",
    "pm['ME/ CIVIL']=pm['ME/ CIVIL_x']+pm['ME/ CIVIL_y']\n",
    "pm['MBA']=pm['MBA_x']+pm['MBA_y']\n",
    "pm['TOTAL']=pm['TOTAL_x']+pm['TOTAL_y']"
   ]
  },
  {
   "cell_type": "code",
   "execution_count": 44,
   "id": "fatty-doctor",
   "metadata": {},
   "outputs": [
    {
     "data": {
      "text/plain": [
       "Index(['ECE_x', 'CSE_x', 'EEE_x', 'IT_x', 'MECH_x', 'PROD_x', 'CIVIL_x',\n",
       "       'CHEM_x', 'BIO- TECH_x', 'MCA_x', 'MTech/ CSE_x', 'M.E/ ECE_x',\n",
       "       'M.E/ EEE_x', 'M.E/\\nCad/Cam_x', 'ME/ CIVIL_x', 'MBA_x', 'TOTAL_x',\n",
       "       'ECE_y', 'CSE_y', 'EEE_y', 'IT_y', 'MECH_y', 'PROD_y', 'CIVIL_y',\n",
       "       'CHEM_y', 'BIO- TECH_y', 'MCA_y', 'MTech/ CSE_y', 'M.E/ ECE_y',\n",
       "       'M.E/ EEE_y', 'M.E/\\nCad/Cam_y', 'ME/ CIVIL_y', 'MBA_y', 'TOTAL_y',\n",
       "       'ECE', 'CSE', 'EEE', 'IT', 'MECH', 'PROD', 'CIVIL', 'CHEM', 'BIO- TECH',\n",
       "       'MCA', 'MTech/ CSE', 'M.E/ ECE', 'M.E/ EEE', 'M.E/\\nCad/Cam',\n",
       "       'ME/ CIVIL', 'MBA', 'TOTAL'],\n",
       "      dtype='object')"
      ]
     },
     "execution_count": 44,
     "metadata": {},
     "output_type": "execute_result"
    }
   ],
   "source": [
    "pm.columns"
   ]
  },
  {
   "cell_type": "code",
   "execution_count": 45,
   "id": "contrary-release",
   "metadata": {},
   "outputs": [],
   "source": [
    "#drop the unnecessary columns\n",
    "\n",
    "pm.drop(['ECE_x', 'CSE_x', 'EEE_x', 'IT_x', 'MECH_x', 'PROD_x', 'CIVIL_x',\n",
    "       'CHEM_x', 'BIO- TECH_x', 'MCA_x', 'MTech/ CSE_x', 'M.E/ ECE_x',\n",
    "       'M.E/ EEE_x', 'M.E/\\nCad/Cam_x', 'ME/ CIVIL_x', 'MBA_x', 'TOTAL_x',\n",
    "       'ECE_y', 'CSE_y', 'EEE_y', 'IT_y', 'MECH_y', 'PROD_y', 'CIVIL_y',\n",
    "       'CHEM_y', 'BIO- TECH_y', 'MCA_y', 'MTech/ CSE_y', 'M.E/ ECE_y',\n",
    "       'M.E/ EEE_y', 'M.E/\\nCad/Cam_y', 'ME/ CIVIL_y', 'MBA_y', 'TOTAL_y'],axis=1,inplace=True)"
   ]
  },
  {
   "cell_type": "code",
   "execution_count": 46,
   "id": "leading-outside",
   "metadata": {},
   "outputs": [],
   "source": [
    "#adding data of 2010,2011,2012,2013 and 2014"
   ]
  },
  {
   "cell_type": "code",
   "execution_count": 47,
   "id": "victorian-mailman",
   "metadata": {},
   "outputs": [],
   "source": [
    "pm=pd.merge(pm,p14,how='outer',on='Name of the Organization')"
   ]
  },
  {
   "cell_type": "code",
   "execution_count": 48,
   "id": "irish-expression",
   "metadata": {},
   "outputs": [],
   "source": [
    "pm.fillna(0,inplace=True)"
   ]
  },
  {
   "cell_type": "code",
   "execution_count": 49,
   "id": "amber-durham",
   "metadata": {},
   "outputs": [],
   "source": [
    "#adding values of left and right dataframes and storing them in new columns\n",
    "\n",
    "pm['ECE']=pm['ECE_x']+pm['ECE_y']\n",
    "pm['CSE']=pm['CSE_x']+pm['CSE_y']\n",
    "pm['EEE']=pm['EEE_x']+pm['EEE_y']\n",
    "pm['IT']=pm['IT_x']+pm['IT_y']\n",
    "pm['MECH']=pm['MECH_x']+pm['MECH_y']\n",
    "pm['PROD']=pm['PROD_x']+pm['PROD_y']\n",
    "pm['CIVIL']=pm['CIVIL_x']+pm['CIVIL_y']\n",
    "pm['CHEM']=pm['CHEM_x']+pm['CHEM_y']\n",
    "pm['BIO- TECH']=pm['BIO- TECH_x']+pm['BIO- TECH_y']\n",
    "pm['MCA']=pm['MCA_x']+pm['MCA_y']\n",
    "pm['MTech/ CSE']=pm['MTech/ CSE_x']+pm['MTech/ CSE_y']\n",
    "pm['M.E/ ECE']=pm['M.E/ ECE_x']+pm['M.E/ ECE_y']\n",
    "pm['M.E/ EEE']=pm['M.E/ EEE_x']+pm['M.E/ EEE_y']\n",
    "pm['M.E/\\nCad/Cam']=pm['M.E/\\nCad/Cam_x']+pm['M.E/\\nCad/Cam_y']\n",
    "pm['ME/ CIVIL']=pm['ME/ CIVIL_x']+pm['ME/ CIVIL_y']\n",
    "pm['MBA']=pm['MBA_x']+pm['MBA_y']\n",
    "pm['TOTAL']=pm['TOTAL_x']+pm['TOTAL_y']"
   ]
  },
  {
   "cell_type": "code",
   "execution_count": 50,
   "id": "armed-jewel",
   "metadata": {},
   "outputs": [],
   "source": [
    "#drop the unnecessary columns\n",
    "\n",
    "pm.drop(['ECE_x', 'CSE_x', 'EEE_x', 'IT_x', 'MECH_x', 'PROD_x', 'CIVIL_x',\n",
    "       'CHEM_x', 'BIO- TECH_x', 'MCA_x', 'MTech/ CSE_x', 'M.E/ ECE_x',\n",
    "       'M.E/ EEE_x', 'M.E/\\nCad/Cam_x', 'ME/ CIVIL_x', 'MBA_x', 'TOTAL_x',\n",
    "       'ECE_y', 'CSE_y', 'EEE_y', 'IT_y', 'MECH_y', 'PROD_y', 'CIVIL_y',\n",
    "       'CHEM_y', 'BIO- TECH_y', 'MCA_y', 'MTech/ CSE_y', 'M.E/ ECE_y','M.E/ EEE_y', \n",
    "         'M.E/\\nCad/Cam_y','ME/ CIVIL_y', 'MBA_y', 'TOTAL_y'],axis=1,inplace=True)"
   ]
  },
  {
   "cell_type": "code",
   "execution_count": 51,
   "id": "optical-panama",
   "metadata": {},
   "outputs": [],
   "source": [
    "#adding data of 2010,2011,2012,2013,2014 and 2015"
   ]
  },
  {
   "cell_type": "code",
   "execution_count": 52,
   "id": "empty-diana",
   "metadata": {},
   "outputs": [],
   "source": [
    "pm=pd.merge(pm,p15,how='outer',on='Name of the Organization')"
   ]
  },
  {
   "cell_type": "code",
   "execution_count": 53,
   "id": "innovative-survey",
   "metadata": {},
   "outputs": [],
   "source": [
    "pm.fillna(0,inplace=True)"
   ]
  },
  {
   "cell_type": "code",
   "execution_count": 54,
   "id": "norman-helena",
   "metadata": {},
   "outputs": [
    {
     "data": {
      "text/plain": [
       "Index(['ME / VLSI_x', 'ME/ THERMAL_x', 'ECE_x', 'CSE_x', 'EEE_x', 'IT_x',\n",
       "       'MECH_x', 'PROD_x', 'CIVIL_x', 'CHEM_x', 'BIO- TECH_x', 'MCA_x',\n",
       "       'MTech/ CSE_x', 'M.E/ ECE_x', 'M.E/ EEE_x', 'M.E/\\nCad/Cam_x',\n",
       "       'ME/ CIVIL_x', 'MBA_x', 'TOTAL_x', 'ECE_y', 'CSE_y', 'EEE_y', 'IT_y',\n",
       "       'MECH_y', 'PROD_y', 'CIVIL_y', 'CHEM_y', 'BIO- TECH_y', 'MCA_y',\n",
       "       'MTech/ CSE_y', 'MTech/ CNIS', 'M.E/ ECE_y', 'ME / VLSI_y',\n",
       "       'M.E/ EEE_y', 'M.E/\\nCad/Cam_y', 'ME/ THERMAL_y', 'ME/ CIVIL_y',\n",
       "       'MBA_y', 'TOTAL_y'],\n",
       "      dtype='object')"
      ]
     },
     "execution_count": 54,
     "metadata": {},
     "output_type": "execute_result"
    }
   ],
   "source": [
    "pm.columns"
   ]
  },
  {
   "cell_type": "code",
   "execution_count": 55,
   "id": "minor-robertson",
   "metadata": {},
   "outputs": [],
   "source": [
    "#adding values of left and right dataframes and storing them in new columns\n",
    "\n",
    "pm['ECE']=pm['ECE_x']+pm['ECE_y']\n",
    "pm['CSE']=pm['CSE_x']+pm['CSE_y']\n",
    "pm['EEE']=pm['EEE_x']+pm['EEE_y']\n",
    "pm['IT']=pm['IT_x']+pm['IT_y']\n",
    "pm['MECH']=pm['MECH_x']+pm['MECH_y']\n",
    "pm['PROD']=pm['PROD_x']+pm['PROD_y']\n",
    "pm['CIVIL']=pm['CIVIL_x']+pm['CIVIL_y']\n",
    "pm['CHEM']=pm['CHEM_x']+pm['CHEM_y']\n",
    "pm['BIO- TECH']=pm['BIO- TECH_x']+pm['BIO- TECH_y']\n",
    "pm['MCA']=pm['MCA_x']+pm['MCA_y']\n",
    "pm['MTech/ CSE']=pm['MTech/ CSE_x']+pm['MTech/ CSE_y']\n",
    "pm['M.E/ ECE']=pm['M.E/ ECE_x']+pm['M.E/ ECE_y']\n",
    "pm['M.E/ EEE']=pm['M.E/ EEE_x']+pm['M.E/ EEE_y']\n",
    "pm['M.E/\\nCad/Cam']=pm['M.E/\\nCad/Cam_x']+pm['M.E/\\nCad/Cam_y']\n",
    "pm['ME/ CIVIL']=pm['ME/ CIVIL_x']+pm['ME/ CIVIL_y']\n",
    "pm['MBA']=pm['MBA_x']+pm['MBA_y']\n",
    "pm['TOTAL']=pm['TOTAL_x']+pm['TOTAL_y']\n",
    "pm['ME / VLSI']=pm['ME / VLSI_x']+pm['ME / VLSI_y']\n",
    "pm['ME/ THERMAL']=pm['ME/ THERMAL_x']+pm['ME/ THERMAL_y']"
   ]
  },
  {
   "cell_type": "code",
   "execution_count": 56,
   "id": "stunning-jamaica",
   "metadata": {},
   "outputs": [],
   "source": [
    "#drop the unnecessary columns\n",
    "\n",
    "pm.drop(['ME / VLSI_x', 'ME/ THERMAL_x', 'ECE_x', 'CSE_x', 'EEE_x', 'IT_x',\n",
    "       'MECH_x', 'PROD_x', 'CIVIL_x', 'CHEM_x', 'BIO- TECH_x', 'MCA_x',\n",
    "       'MTech/ CSE_x', 'M.E/ ECE_x', 'M.E/ EEE_x', 'M.E/\\nCad/Cam_x',\n",
    "       'ME/ CIVIL_x', 'MBA_x', 'TOTAL_x', 'ECE_y', 'CSE_y', 'EEE_y', 'IT_y',\n",
    "       'MECH_y', 'PROD_y', 'CIVIL_y', 'CHEM_y', 'BIO- TECH_y', 'MCA_y',\n",
    "       'MTech/ CSE_y','M.E/ ECE_y', 'ME / VLSI_y',\n",
    "       'M.E/ EEE_y', 'M.E/\\nCad/Cam_y', 'ME/ THERMAL_y', 'ME/ CIVIL_y',\n",
    "       'MBA_y', 'TOTAL_y'],axis=1,inplace=True)"
   ]
  },
  {
   "cell_type": "code",
   "execution_count": 57,
   "id": "atlantic-thesis",
   "metadata": {},
   "outputs": [],
   "source": [
    "#adding data of 2010,2011,2012,2013,2014,2015 and 2016"
   ]
  },
  {
   "cell_type": "code",
   "execution_count": 58,
   "id": "common-emperor",
   "metadata": {},
   "outputs": [],
   "source": [
    "pm=pd.merge(pm,p16,how='outer',on='Name of the Organization')"
   ]
  },
  {
   "cell_type": "code",
   "execution_count": 59,
   "id": "under-glenn",
   "metadata": {},
   "outputs": [],
   "source": [
    "pm.fillna(0,inplace=True)"
   ]
  },
  {
   "cell_type": "code",
   "execution_count": 60,
   "id": "welsh-henry",
   "metadata": {},
   "outputs": [
    {
     "data": {
      "text/plain": [
       "Index(['MTech/ CNIS_x', 'ECE_x', 'CSE_x', 'EEE_x', 'IT_x', 'MECH_x', 'PROD_x',\n",
       "       'CIVIL_x', 'CHEM_x', 'BIO- TECH_x', 'MCA_x', 'MTech/ CSE_x',\n",
       "       'M.E/ ECE_x', 'M.E/ EEE_x', 'M.E/\\nCad/Cam_x', 'ME/ CIVIL_x', 'MBA_x',\n",
       "       'TOTAL_x', 'ME / VLSI_x', 'ME/ THERMAL_x', 'ECE_y', 'CSE_y', 'EEE_y',\n",
       "       'IT_y', 'MECH_y', 'PROD_y', 'CIVIL_y', 'CHEM_y', 'BIO- TECH_y', 'MCA_y',\n",
       "       'MTech/ CSE_y', 'MTech/ CNIS_y', 'M.E/ ECE_y', 'ME / VLSI_y',\n",
       "       'M.E/ EEE_y', 'M.E/\\nCad/Cam_y', 'ME/ THERMAL_y', 'ME/ CIVIL_y',\n",
       "       'MBA_y', 'TOTAL_y'],\n",
       "      dtype='object')"
      ]
     },
     "execution_count": 60,
     "metadata": {},
     "output_type": "execute_result"
    }
   ],
   "source": [
    "pm.columns"
   ]
  },
  {
   "cell_type": "code",
   "execution_count": 61,
   "id": "headed-timeline",
   "metadata": {},
   "outputs": [],
   "source": [
    "#adding values of left and right dataframes and storing them in new columns\n",
    "\n",
    "pm['ECE']=pm['ECE_x']+pm['ECE_y']\n",
    "pm['CSE']=pm['CSE_x']+pm['CSE_y']\n",
    "pm['EEE']=pm['EEE_x']+pm['EEE_y']\n",
    "pm['IT']=pm['IT_x']+pm['IT_y']\n",
    "pm['MECH']=pm['MECH_x']+pm['MECH_y']\n",
    "pm['PROD']=pm['PROD_x']+pm['PROD_y']\n",
    "pm['CIVIL']=pm['CIVIL_x']+pm['CIVIL_y']\n",
    "pm['CHEM']=pm['CHEM_x']+pm['CHEM_y']\n",
    "pm['BIO- TECH']=pm['BIO- TECH_x']+pm['BIO- TECH_y']\n",
    "pm['MCA']=pm['MCA_x']+pm['MCA_y']\n",
    "pm['MTech/ CSE']=pm['MTech/ CSE_x']+pm['MTech/ CSE_y']\n",
    "pm['MTech/ CNIS']=pm['MTech/ CNIS_x']+pm['MTech/ CNIS_y']\n",
    "pm['M.E/ ECE']=pm['M.E/ ECE_x']+pm['M.E/ ECE_y']\n",
    "pm['ME / VLSI']=pm['ME / VLSI_x']+pm['ME / VLSI_y']\n",
    "pm['M.E/ EEE']=pm['M.E/ EEE_x']+pm['M.E/ EEE_y']\n",
    "pm['M.E/\\nCad/Cam']=pm['M.E/\\nCad/Cam_x']+pm['M.E/\\nCad/Cam_y']\n",
    "pm['ME/ THERMAL']=pm['ME/ THERMAL_x']+pm['ME/ THERMAL_y']\n",
    "pm['ME/ CIVIL']=pm['ME/ CIVIL_x']+pm['ME/ CIVIL_y']\n",
    "pm['MBA']=pm['MBA_x']+pm['MBA_y']\n",
    "pm['TOTAL']=pm['TOTAL_x']+pm['TOTAL_y']"
   ]
  },
  {
   "cell_type": "code",
   "execution_count": 62,
   "id": "starting-medicaid",
   "metadata": {},
   "outputs": [],
   "source": [
    "#drop the unnecessary columns\n",
    "\n",
    "pm.drop(['ECE_x', 'CSE_x', 'EEE_x', 'IT_x', 'MECH_x', 'PROD_x', 'CIVIL_x',\n",
    "       'CHEM_x', 'BIO- TECH_x', 'MCA_x', 'MTech/ CSE_x', 'MTech/ CNIS_x',\n",
    "       'M.E/ ECE_x', 'ME / VLSI_x', 'M.E/ EEE_x', 'M.E/\\nCad/Cam_x',\n",
    "       'ME/ THERMAL_x', 'ME/ CIVIL_x', 'MBA_x', 'TOTAL_x', 'ECE_y', 'CSE_y',\n",
    "       'EEE_y', 'IT_y', 'MECH_y', 'PROD_y', 'CIVIL_y', 'CHEM_y', 'BIO- TECH_y',\n",
    "       'MCA_y', 'MTech/ CSE_y', 'MTech/ CNIS_y', 'M.E/ ECE_y', 'ME / VLSI_y',\n",
    "       'M.E/ EEE_y', 'M.E/\\nCad/Cam_y', 'ME/ THERMAL_y', 'ME/ CIVIL_y',\n",
    "       'MBA_y', 'TOTAL_y'],axis=1,inplace=True)"
   ]
  },
  {
   "cell_type": "code",
   "execution_count": 63,
   "id": "apparent-button",
   "metadata": {},
   "outputs": [],
   "source": [
    "#adding data of 2010,2011,2012,2013,2014,2015,2016 and 2017"
   ]
  },
  {
   "cell_type": "code",
   "execution_count": 64,
   "id": "tender-drain",
   "metadata": {},
   "outputs": [],
   "source": [
    "pm=pd.merge(pm,p17,how='outer',on='Name of the Organization')"
   ]
  },
  {
   "cell_type": "code",
   "execution_count": 65,
   "id": "coordinated-sunset",
   "metadata": {},
   "outputs": [],
   "source": [
    "pm.fillna(0,inplace=True)"
   ]
  },
  {
   "cell_type": "code",
   "execution_count": 66,
   "id": "basic-vacation",
   "metadata": {},
   "outputs": [],
   "source": [
    "#adding values of left and right dataframes and storing them in new columns\n",
    "\n",
    "pm['ECE']=pm['ECE_x']+pm['ECE_y']\n",
    "pm['CSE']=pm['CSE_x']+pm['CSE_y']\n",
    "pm['EEE']=pm['EEE_x']+pm['EEE_y']\n",
    "pm['IT']=pm['IT_x']+pm['IT_y']\n",
    "pm['MECH']=pm['MECH_x']+pm['MECH_y']\n",
    "pm['PROD']=pm['PROD_x']+pm['PROD_y']\n",
    "pm['CIVIL']=pm['CIVIL_x']+pm['CIVIL_y']\n",
    "pm['CHEM']=pm['CHEM_x']+pm['CHEM_y']\n",
    "pm['BIO- TECH']=pm['BIO- TECH_x']+pm['BIO- TECH_y']\n",
    "pm['MCA']=pm['MCA_x']+pm['MCA_y']\n",
    "pm['MTech/ CSE']=pm['MTech/ CSE_x']+pm['MTech/ CSE_y']\n",
    "pm['MTech/ CNIS']=pm['MTech/ CNIS_x']+pm['MTech/ CNIS_y']\n",
    "pm['M.E/ ECE']=pm['M.E/ ECE_x']+pm['M.E/ ECE_y']\n",
    "pm['ME / VLSI']=pm['ME / VLSI_x']+pm['ME / VLSI_y']\n",
    "pm['M.E/ EEE']=pm['M.E/ EEE_x']+pm['M.E/ EEE_y']\n",
    "pm['M.E/\\nCad/Cam']=pm['M.E/\\nCad/Cam_x']+pm['M.E/\\nCad/Cam_y']\n",
    "pm['ME/ THERMAL']=pm['ME/ THERMAL_x']+pm['ME/ THERMAL_y']\n",
    "pm['ME/ CIVIL']=pm['ME/ CIVIL_x']+pm['ME/ CIVIL_y']\n",
    "pm['MBA']=pm['MBA_x']+pm['MBA_y']\n",
    "pm['TOTAL']=pm['TOTAL_x']+pm['TOTAL_y']"
   ]
  },
  {
   "cell_type": "code",
   "execution_count": 67,
   "id": "spread-observer",
   "metadata": {},
   "outputs": [],
   "source": [
    "#drop the unnecessary columns\n",
    "\n",
    "pm.drop(['ECE_x', 'CSE_x', 'EEE_x', 'IT_x', 'MECH_x', 'PROD_x', 'CIVIL_x',\n",
    "       'CHEM_x', 'BIO- TECH_x', 'MCA_x', 'MTech/ CSE_x', 'MTech/ CNIS_x',\n",
    "       'M.E/ ECE_x', 'ME / VLSI_x', 'M.E/ EEE_x', 'M.E/\\nCad/Cam_x',\n",
    "       'ME/ THERMAL_x', 'ME/ CIVIL_x', 'MBA_x', 'TOTAL_x', 'ECE_y', 'CSE_y',\n",
    "       'EEE_y', 'IT_y', 'MECH_y', 'PROD_y', 'CIVIL_y', 'CHEM_y', 'BIO- TECH_y',\n",
    "       'MCA_y', 'MTech/ CSE_y', 'MTech/ CNIS_y', 'M.E/ ECE_y', 'ME / VLSI_y',\n",
    "       'M.E/ EEE_y', 'M.E/\\nCad/Cam_y', 'ME/ THERMAL_y', 'ME/ CIVIL_y',\n",
    "       'MBA_y', 'TOTAL_y'],axis=1,inplace=True)"
   ]
  },
  {
   "cell_type": "code",
   "execution_count": 68,
   "id": "expected-steps",
   "metadata": {},
   "outputs": [],
   "source": [
    "#pm.index"
   ]
  },
  {
   "cell_type": "code",
   "execution_count": 69,
   "id": "serious-burton",
   "metadata": {},
   "outputs": [],
   "source": [
    "#for i in p16.index:\n",
    "#    for j in p17.index:\n",
    "#        if i==j:\n",
    "#            print(i)"
   ]
  },
  {
   "cell_type": "code",
   "execution_count": 70,
   "id": "academic-slovenia",
   "metadata": {},
   "outputs": [],
   "source": [
    "#adding data of 2010,2011,2012,2013,2014,2015,2016,2017 and 2018"
   ]
  },
  {
   "cell_type": "code",
   "execution_count": 71,
   "id": "alone-scott",
   "metadata": {},
   "outputs": [],
   "source": [
    "pm=pd.merge(pm,p18,how='outer',on='Name of the Organization')"
   ]
  },
  {
   "cell_type": "code",
   "execution_count": 72,
   "id": "divine-language",
   "metadata": {},
   "outputs": [],
   "source": [
    "pm.fillna(0,inplace=True)"
   ]
  },
  {
   "cell_type": "code",
   "execution_count": 73,
   "id": "later-textbook",
   "metadata": {},
   "outputs": [],
   "source": [
    "pm['ECE']=pm['ECE_x']+pm['ECE_y']\n",
    "pm['CSE']=pm['CSE_x']+pm['CSE_y']\n",
    "pm['EEE']=pm['EEE_x']+pm['EEE_y']\n",
    "pm['IT']=pm['IT_x']+pm['IT_y']\n",
    "pm['MECH']=pm['MECH_x']+pm['MECH_y']\n",
    "pm['PROD']=pm['PROD_x']+pm['PROD_y']\n",
    "pm['CIVIL']=pm['CIVIL_x']+pm['CIVIL_y']\n",
    "pm['CHEM']=pm['CHEM_x']+pm['CHEM_y']\n",
    "pm['BIO- TECH']=pm['BIO- TECH_x']+pm['BIO- TECH_y']\n",
    "pm['MCA']=pm['MCA_x']+pm['MCA_y']\n",
    "pm['MTech/ CSE']=pm['MTech/ CSE_x']+pm['MTech/ CSE_y']\n",
    "pm['MTech/ CNIS']=pm['MTech/ CNIS_x']+pm['MTech/ CNIS_y']\n",
    "pm['M.E/ ECE']=pm['M.E/ ECE_x']+pm['M.E/ ECE_y']\n",
    "pm['ME / VLSI']=pm['ME / VLSI_x']+pm['ME / VLSI_y']\n",
    "pm['M.E/ EEE']=pm['M.E/ EEE_x']+pm['M.E/ EEE_y']\n",
    "pm['M.E/\\nCad/Cam']=pm['M.E/\\nCad/Cam_x']+pm['M.E/\\nCad/Cam_y']\n",
    "pm['ME/ THERMAL']=pm['ME/ THERMAL_x']+pm['ME/ THERMAL_y']\n",
    "pm['ME/ CIVIL']=pm['ME/ CIVIL_x']+pm['ME/ CIVIL_y']\n",
    "pm['MBA']=pm['MBA_x']+pm['MBA_y']\n",
    "pm['TOTAL']=pm['TOTAL_x']+pm['TOTAL_y']"
   ]
  },
  {
   "cell_type": "code",
   "execution_count": 74,
   "id": "metallic-spare",
   "metadata": {},
   "outputs": [],
   "source": [
    "pm.drop(['ECE_x', 'CSE_x', 'EEE_x', 'IT_x', 'MECH_x', 'PROD_x', 'CIVIL_x',\n",
    "       'CHEM_x', 'BIO- TECH_x', 'MCA_x', 'MTech/ CSE_x', 'MTech/ CNIS_x',\n",
    "       'M.E/ ECE_x', 'ME / VLSI_x', 'M.E/ EEE_x', 'M.E/\\nCad/Cam_x',\n",
    "       'ME/ THERMAL_x', 'ME/ CIVIL_x', 'MBA_x', 'TOTAL_x', 'ECE_y', 'CSE_y',\n",
    "       'EEE_y', 'IT_y', 'MECH_y', 'PROD_y', 'CIVIL_y', 'CHEM_y', 'BIO- TECH_y',\n",
    "       'MCA_y', 'MTech/ CSE_y', 'MTech/ CNIS_y', 'M.E/ ECE_y', 'ME / VLSI_y',\n",
    "       'M.E/ EEE_y', 'M.E/\\nCad/Cam_y', 'ME/ THERMAL_y', 'ME/ CIVIL_y',\n",
    "       'MBA_y', 'TOTAL_y'],axis=1,inplace=True)"
   ]
  },
  {
   "cell_type": "code",
   "execution_count": 75,
   "id": "hourly-grant",
   "metadata": {},
   "outputs": [],
   "source": [
    "#adding data of 2010,2011,2012,2013,2014,2015,2016,2017,2018 and 2019"
   ]
  },
  {
   "cell_type": "code",
   "execution_count": 76,
   "id": "virtual-directive",
   "metadata": {},
   "outputs": [],
   "source": [
    "pm=pd.merge(pm,p19,how='outer',on='Name of the Organization')"
   ]
  },
  {
   "cell_type": "code",
   "execution_count": 77,
   "id": "confirmed-rehabilitation",
   "metadata": {},
   "outputs": [],
   "source": [
    "pm.fillna(0,inplace=True)"
   ]
  },
  {
   "cell_type": "code",
   "execution_count": 78,
   "id": "public-neighborhood",
   "metadata": {},
   "outputs": [],
   "source": [
    "pm['ECE']=pm['ECE_x']+pm['ECE_y']\n",
    "pm['CSE']=pm['CSE_x']+pm['CSE_y']\n",
    "pm['EEE']=pm['EEE_x']+pm['EEE_y']\n",
    "pm['IT']=pm['IT_x']+pm['IT_y']\n",
    "pm['MECH']=pm['MECH_x']+pm['MECH_y']\n",
    "pm['PROD']=pm['PROD_x']+pm['PROD_y']\n",
    "pm['CIVIL']=pm['CIVIL_x']+pm['CIVIL_y']\n",
    "pm['CHEM']=pm['CHEM_x']+pm['CHEM_y']\n",
    "pm['BIO- TECH']=pm['BIO- TECH_x']+pm['BIO- TECH_y']\n",
    "pm['MCA']=pm['MCA_x']+pm['MCA_y']\n",
    "pm['MTech/ CSE']=pm['MTech/ CSE_x']+pm['MTech/ CSE_y']\n",
    "pm['MTech/ CNIS']=pm['MTech/ CNIS_x']+pm['MTech/ CNIS_y']\n",
    "pm['M.E/ ECE']=pm['M.E/ ECE_x']+pm['M.E/ ECE_y']\n",
    "pm['ME / VLSI']=pm['ME / VLSI_x']+pm['ME / VLSI_y']\n",
    "pm['M.E/ EEE']=pm['M.E/ EEE_x']+pm['M.E/ EEE_y']\n",
    "pm['M.E/\\nCad/Cam']=pm['M.E/\\nCad/Cam_x']+pm['M.E/\\nCad/Cam_y']\n",
    "pm['ME/ THERMAL']=pm['ME/ THERMAL_x']+pm['ME/ THERMAL_y']\n",
    "pm['ME/ CIVIL']=pm['ME/ CIVIL_x']+pm['ME/ CIVIL_y']\n",
    "pm['MBA']=pm['MBA_x']+pm['MBA_y']\n",
    "pm['TOTAL']=pm['TOTAL_x']+pm['TOTAL_y']"
   ]
  },
  {
   "cell_type": "code",
   "execution_count": 79,
   "id": "raising-genesis",
   "metadata": {},
   "outputs": [],
   "source": [
    "pm.drop(['ECE_x', 'CSE_x', 'EEE_x', 'IT_x', 'MECH_x', 'PROD_x', 'CIVIL_x',\n",
    "       'CHEM_x', 'BIO- TECH_x', 'MCA_x', 'MTech/ CSE_x', 'MTech/ CNIS_x',\n",
    "       'M.E/ ECE_x', 'ME / VLSI_x', 'M.E/ EEE_x', 'M.E/\\nCad/Cam_x',\n",
    "       'ME/ THERMAL_x', 'ME/ CIVIL_x', 'MBA_x', 'TOTAL_x', 'ECE_y', 'CSE_y',\n",
    "       'EEE_y', 'IT_y', 'MECH_y', 'PROD_y', 'CIVIL_y', 'CHEM_y', 'BIO- TECH_y',\n",
    "       'MCA_y', 'MTech/ CSE_y', 'MTech/ CNIS_y', 'M.E/ ECE_y', 'ME / VLSI_y',\n",
    "       'M.E/ EEE_y', 'M.E/\\nCad/Cam_y', 'ME/ THERMAL_y', 'ME/ CIVIL_y',\n",
    "       'MBA_y', 'TOTAL_y'],axis=1,inplace=True)"
   ]
  },
  {
   "cell_type": "code",
   "execution_count": 80,
   "id": "surprised-advice",
   "metadata": {},
   "outputs": [],
   "source": [
    "#adding data of 2010,2011,2012,2013,2014,2015,2016,2017,2018,2019 and 2020"
   ]
  },
  {
   "cell_type": "code",
   "execution_count": 81,
   "id": "requested-contrary",
   "metadata": {},
   "outputs": [],
   "source": [
    "pm=pd.merge(pm,p20,how='outer',on='Name of the Organization')"
   ]
  },
  {
   "cell_type": "code",
   "execution_count": 82,
   "id": "boxed-complaint",
   "metadata": {},
   "outputs": [],
   "source": [
    "pm.fillna(0,inplace=True)"
   ]
  },
  {
   "cell_type": "code",
   "execution_count": 83,
   "id": "mental-century",
   "metadata": {},
   "outputs": [],
   "source": [
    "pm['ECE']=pm['ECE_x']+pm['ECE_y']\n",
    "pm['CSE']=pm['CSE_x']+pm['CSE_y']\n",
    "pm['EEE']=pm['EEE_x']+pm['EEE_y']\n",
    "pm['IT']=pm['IT_x']+pm['IT_y']\n",
    "pm['MECH']=pm['MECH_x']+pm['MECH_y']\n",
    "pm['PROD']=pm['PROD_x']+pm['PROD_y']\n",
    "pm['CIVIL']=pm['CIVIL_x']+pm['CIVIL_y']\n",
    "pm['CHEM']=pm['CHEM_x']+pm['CHEM_y']\n",
    "pm['BIO- TECH']=pm['BIO- TECH_x']+pm['BIO- TECH_y']\n",
    "pm['MCA']=pm['MCA_x']+pm['MCA_y']\n",
    "pm['MTech/ CSE']=pm['MTech/ CSE_x']+pm['MTech/ CSE_y']\n",
    "pm['MTech/ CNIS']=pm['MTech/ CNIS_x']+pm['MTech/ CNIS_y']\n",
    "pm['M.E/ ECE']=pm['M.E/ ECE_x']+pm['M.E/ ECE_y']\n",
    "pm['ME / VLSI']=pm['ME / VLSI_x']+pm['ME / VLSI_y']\n",
    "pm['M.E/ EEE']=pm['M.E/ EEE_x']+pm['M.E/ EEE_y']\n",
    "pm['M.E/\\nCad/Cam']=pm['M.E/\\nCad/Cam_x']+pm['M.E/\\nCad/Cam_y']\n",
    "pm['ME/ THERMAL']=pm['ME/ THERMAL_x']+pm['ME/ THERMAL_y']\n",
    "pm['ME/ CIVIL']=pm['ME/ CIVIL_x']+pm['ME/ CIVIL_y']\n",
    "pm['MBA']=pm['MBA_x']+pm['MBA_y']\n",
    "pm['TOTAL']=pm['TOTAL_x']+pm['TOTAL_y']\n"
   ]
  },
  {
   "cell_type": "code",
   "execution_count": 84,
   "id": "persistent-creek",
   "metadata": {},
   "outputs": [],
   "source": [
    "pm.drop(['ECE_x', 'CSE_x', 'EEE_x', 'IT_x', 'MECH_x', 'PROD_x', 'CIVIL_x',\n",
    "       'CHEM_x', 'BIO- TECH_x', 'MCA_x', 'MTech/ CSE_x', 'MTech/ CNIS_x',\n",
    "       'M.E/ ECE_x', 'ME / VLSI_x', 'M.E/ EEE_x', 'M.E/\\nCad/Cam_x',\n",
    "       'ME/ THERMAL_x', 'ME/ CIVIL_x', 'MBA_x', 'TOTAL_x', 'ECE_y', 'CSE_y',\n",
    "       'EEE_y', 'IT_y', 'MECH_y', 'PROD_y', 'CIVIL_y', 'CHEM_y', 'BIO- TECH_y',\n",
    "       'MCA_y', 'MTech/ CSE_y', 'MTech/ CNIS_y', 'M.E/ ECE_y', 'ME / VLSI_y',\n",
    "       'M.E/ EEE_y', 'M.E/\\nCad/Cam_y', 'ME/ THERMAL_y', 'ME/ CIVIL_y',\n",
    "       'MBA_y', 'TOTAL_y'],axis=1,inplace=True)\n"
   ]
  },
  {
   "cell_type": "code",
   "execution_count": 85,
   "id": "connected-result",
   "metadata": {},
   "outputs": [],
   "source": [
    "#adding data of 2010,2011,2012,2013,2014,2015,2016,2017,2018,2019,2020 and 2021"
   ]
  },
  {
   "cell_type": "code",
   "execution_count": 86,
   "id": "external-spencer",
   "metadata": {},
   "outputs": [],
   "source": [
    "pm=pd.merge(pm,p21,how='outer',on='Name of the Organization')"
   ]
  },
  {
   "cell_type": "code",
   "execution_count": 87,
   "id": "streaming-spell",
   "metadata": {},
   "outputs": [],
   "source": [
    "pm.fillna(0,inplace=True)"
   ]
  },
  {
   "cell_type": "code",
   "execution_count": 88,
   "id": "undefined-taiwan",
   "metadata": {},
   "outputs": [
    {
     "data": {
      "text/plain": [
       "Index(['ECE_x', 'CSE_x', 'EEE_x', 'IT_x', 'MECH_x', 'PROD_x', 'CIVIL_x',\n",
       "       'CHEM_x', 'BIO- TECH_x', 'MCA_x', 'MTech/ CSE_x', 'MTech/ CNIS_x',\n",
       "       'M.E/ ECE_x', 'ME / VLSI_x', 'M.E/ EEE_x', 'M.E/\\nCad/Cam_x',\n",
       "       'ME/ THERMAL_x', 'ME/ CIVIL', 'MBA_x', 'TOTAL_x', 'ECE_y', 'CSE_y',\n",
       "       'EEE_y', 'IT_y', 'MECH_y', 'PROD_y', 'CIVIL_y', 'CHEM_y', 'BIO- TECH_y',\n",
       "       'MCA_y', 'MTech/ CSE_y', 'MTech/ CNIS_y', 'M.E/ ECE_y', 'ME / VLSI_y',\n",
       "       'M.E/ EEE_y', 'M.E/\\nCad/Cam_y', 'ME/ THERMAL_y', 'ME/ Stru', 'MBA_y',\n",
       "       'TOTAL_y'],\n",
       "      dtype='object')"
      ]
     },
     "execution_count": 88,
     "metadata": {},
     "output_type": "execute_result"
    }
   ],
   "source": [
    "pm.columns"
   ]
  },
  {
   "cell_type": "code",
   "execution_count": 89,
   "id": "nuclear-communist",
   "metadata": {},
   "outputs": [],
   "source": [
    "pm['ECE']=pm['ECE_x']+pm['ECE_y']\n",
    "pm['CSE']=pm['CSE_x']+pm['CSE_y']\n",
    "pm['EEE']=pm['EEE_x']+pm['EEE_y']\n",
    "pm['IT']=pm['IT_x']+pm['IT_y']\n",
    "pm['MECH']=pm['MECH_x']+pm['MECH_y']\n",
    "pm['PROD']=pm['PROD_x']+pm['PROD_y']\n",
    "pm['CIVIL']=pm['CIVIL_x']+pm['CIVIL_y']\n",
    "pm['CHEM']=pm['CHEM_x']+pm['CHEM_y']\n",
    "pm['BIO- TECH']=pm['BIO- TECH_x']+pm['BIO- TECH_y']\n",
    "pm['MCA']=pm['MCA_x']+pm['MCA_y']\n",
    "pm['MTech/ CSE']=pm['MTech/ CSE_x']+pm['MTech/ CSE_y']\n",
    "pm['MTech/ CNIS']=pm['MTech/ CNIS_x']+pm['MTech/ CNIS_y']\n",
    "pm['M.E/ ECE']=pm['M.E/ ECE_x']+pm['M.E/ ECE_y']\n",
    "pm['ME / VLSI']=pm['ME / VLSI_x']+pm['ME / VLSI_y']\n",
    "pm['M.E/ EEE']=pm['M.E/ EEE_x']+pm['M.E/ EEE_y']\n",
    "pm['M.E/\\nCad/Cam']=pm['M.E/\\nCad/Cam_x']+pm['M.E/\\nCad/Cam_y']\n",
    "pm['ME/ THERMAL']=pm['ME/ THERMAL_x']+pm['ME/ THERMAL_y']\n",
    "pm['MBA']=pm['MBA_x']+pm['MBA_y']\n",
    "pm['TOTAL']=pm['TOTAL_x']+pm['TOTAL_y']\n"
   ]
  },
  {
   "cell_type": "code",
   "execution_count": 90,
   "id": "devoted-carrier",
   "metadata": {},
   "outputs": [],
   "source": [
    "pm.drop(['ECE_x', 'CSE_x', 'EEE_x', 'IT_x', 'MECH_x', 'PROD_x', 'CIVIL_x',\n",
    "       'CHEM_x', 'BIO- TECH_x', 'MCA_x', 'MTech/ CSE_x', 'MTech/ CNIS_x',\n",
    "       'M.E/ ECE_x', 'ME / VLSI_x', 'M.E/ EEE_x', 'M.E/\\nCad/Cam_x',\n",
    "       'ME/ THERMAL_x', 'MBA_x', 'TOTAL_x', 'ECE_y', 'CSE_y',\n",
    "       'EEE_y', 'IT_y', 'MECH_y', 'PROD_y', 'CIVIL_y', 'CHEM_y', 'BIO- TECH_y',\n",
    "       'MCA_y', 'MTech/ CSE_y', 'MTech/ CNIS_y', 'M.E/ ECE_y', 'ME / VLSI_y',\n",
    "       'M.E/ EEE_y', 'M.E/\\nCad/Cam_y', 'ME/ THERMAL_y',\n",
    "       'MBA_y', 'TOTAL_y'],axis=1,inplace=True)"
   ]
  },
  {
   "cell_type": "markdown",
   "id": "concerned-mixer",
   "metadata": {},
   "source": [
    "# Working with the merged dataset"
   ]
  },
  {
   "cell_type": "code",
   "execution_count": 91,
   "id": "incorporate-bench",
   "metadata": {},
   "outputs": [],
   "source": [
    "#pm[pm.index.str.contains(r\"\\b(accenture)\\b\", flags=re.I, regex=True)]\n",
    "#pm[pm.index.str.contains('INFOSYS')]"
   ]
  },
  {
   "cell_type": "code",
   "execution_count": 92,
   "id": "internal-charlotte",
   "metadata": {
    "scrolled": true
   },
   "outputs": [],
   "source": [
    "#pm[pm.index.str.contains(r'\\bCTS\\b',flags=re.I,regex=True)]"
   ]
  },
  {
   "cell_type": "code",
   "execution_count": 93,
   "id": "seasonal-lotus",
   "metadata": {},
   "outputs": [],
   "source": [
    "pm.rename(index={'CTS-MBA-FINANCE':'CTS'},inplace=True)\n",
    "pm.rename(index={'CTS':'COGNIZANT'},inplace=True)"
   ]
  },
  {
   "cell_type": "code",
   "execution_count": 94,
   "id": "after-fitting",
   "metadata": {},
   "outputs": [],
   "source": [
    "pm.reset_index(inplace=True)"
   ]
  },
  {
   "cell_type": "code",
   "execution_count": 95,
   "id": "smoking-procurement",
   "metadata": {},
   "outputs": [],
   "source": [
    "pm['Name of the Organization'] = pm['Name of the Organization'].apply(lambda x: 'INFOSYS' if 'INFOSYS' in x else x)\n",
    "pm['Name of the Organization'] = pm['Name of the Organization'].apply(lambda x: 'COGNIZANT' if 'COGNIZANT' in x else x)\n",
    "pm['Name of the Organization'] = pm['Name of the Organization'].apply(lambda x: 'ACCENTURE' if 'ACCENTURE' in x else x)\n",
    "pm['Name of the Organization'] = pm['Name of the Organization'].apply(lambda x: 'WIPRO' if 'WIPRO' in x else x)\n",
    "pm['Name of the Organization'] = pm['Name of the Organization'].apply(lambda x: 'CAPGEMINI' if 'CAPGEMINI' in x else x)\n",
    "pm['Name of the Organization'] = pm['Name of the Organization'].apply(lambda x: 'DELOITTE' if 'DELOITTE' in x else x)\n",
    "pm['Name of the Organization'] = pm['Name of the Organization'].apply(lambda x: 'LARSEN TOUBRO' if 'LARSEN' in x else x)\n",
    "pm['Name of the Organization'] = pm['Name of the Organization'].apply(lambda x: 'LARSEN TOUBRO' if 'L & T' in x else x)\n",
    "pm['Name of the Organization'] = pm['Name of the Organization'].apply(lambda x: 'LARSEN TOUBRO' if 'L& T' in x else x)\n",
    "pm['Name of the Organization'] = pm['Name of the Organization'].apply(lambda x: 'TCS' if 'TCS' in x else x)\n",
    "pm['Name of the Organization'] = pm['Name of the Organization'].apply(lambda x: 'IGATE' if 'IGATE' in x else x)\n",
    "pm['Name of the Organization'] = pm['Name of the Organization'].apply(lambda x: 'MICROSOFT' if 'MICROSOFT' in x else x)\n",
    "pm['Name of the Organization'] = pm['Name of the Organization'].apply(lambda x: 'ORACLE' if 'ORACLE' in x else x)\n",
    "pm['Name of the Organization'] = pm['Name of the Organization'].apply(lambda x: 'JPMC' if 'JP' in x else x)\n",
    "pm['Name of the Organization'] = pm['Name of the Organization'].apply(lambda x: 'JPMC' if 'J P' in x else x)\n",
    "pm['Name of the Organization'] = pm['Name of the Organization'].apply(lambda x: \"DR. REDDY'S LABORATORIES LTD\" if 'REDDY' in x else x)\n",
    "pm['Name of the Organization'] = pm['Name of the Organization'].apply(lambda x: 'NAGARJUNA CONSTRUCTION COMPANY LTD.' if 'NAGARJUNA' in x else x)"
   ]
  },
  {
   "cell_type": "code",
   "execution_count": 96,
   "id": "descending-letters",
   "metadata": {},
   "outputs": [],
   "source": [
    "pm.set_index('Name of the Organization',inplace=True)"
   ]
  },
  {
   "cell_type": "code",
   "execution_count": 97,
   "id": "annoying-queensland",
   "metadata": {},
   "outputs": [],
   "source": [
    "#for i in pm.index.values:\n",
    "#    match = re.search(r\"\\b(ACCENTURE)\\b\",i)\n",
    "#    if match:\n",
    "#        f=re.sub(i,'Cognizant',i)\n",
    "#        print(i)\n",
    "#        print(f)"
   ]
  },
  {
   "cell_type": "code",
   "execution_count": 98,
   "id": "about-xerox",
   "metadata": {},
   "outputs": [],
   "source": [
    "pm=pm.groupby('Name of the Organization').sum()"
   ]
  },
  {
   "cell_type": "code",
   "execution_count": 104,
   "id": "immune-royalty",
   "metadata": {},
   "outputs": [],
   "source": [
    "pm = pm[ ['TOTAL'] + [ col for col in pm.columns if col != 'TOTAL' and col!='ME/ CIVIL' and col!='ME/ Stru' ] + ['ME/ CIVIL'] + ['ME/ Stru']] "
   ]
  },
  {
   "cell_type": "markdown",
   "id": "suitable-drinking",
   "metadata": {},
   "source": [
    "# Cleaned DataFrame"
   ]
  },
  {
   "cell_type": "code",
   "execution_count": 105,
   "id": "neither-blame",
   "metadata": {
    "scrolled": false
   },
   "outputs": [
    {
     "data": {
      "text/html": [
       "<div>\n",
       "<style scoped>\n",
       "    .dataframe tbody tr th:only-of-type {\n",
       "        vertical-align: middle;\n",
       "    }\n",
       "\n",
       "    .dataframe tbody tr th {\n",
       "        vertical-align: top;\n",
       "    }\n",
       "\n",
       "    .dataframe thead th {\n",
       "        text-align: right;\n",
       "    }\n",
       "</style>\n",
       "<table border=\"1\" class=\"dataframe\">\n",
       "  <thead>\n",
       "    <tr style=\"text-align: right;\">\n",
       "      <th></th>\n",
       "      <th>TOTAL</th>\n",
       "      <th>ECE</th>\n",
       "      <th>CSE</th>\n",
       "      <th>EEE</th>\n",
       "      <th>IT</th>\n",
       "      <th>MECH</th>\n",
       "      <th>PROD</th>\n",
       "      <th>CIVIL</th>\n",
       "      <th>CHEM</th>\n",
       "      <th>BIO- TECH</th>\n",
       "      <th>...</th>\n",
       "      <th>MTech/ CSE</th>\n",
       "      <th>MTech/ CNIS</th>\n",
       "      <th>M.E/ ECE</th>\n",
       "      <th>ME / VLSI</th>\n",
       "      <th>M.E/ EEE</th>\n",
       "      <th>M.E/\\nCad/Cam</th>\n",
       "      <th>ME/ THERMAL</th>\n",
       "      <th>MBA</th>\n",
       "      <th>ME/ CIVIL</th>\n",
       "      <th>ME/ Stru</th>\n",
       "    </tr>\n",
       "    <tr>\n",
       "      <th>Name of the Organization</th>\n",
       "      <th></th>\n",
       "      <th></th>\n",
       "      <th></th>\n",
       "      <th></th>\n",
       "      <th></th>\n",
       "      <th></th>\n",
       "      <th></th>\n",
       "      <th></th>\n",
       "      <th></th>\n",
       "      <th></th>\n",
       "      <th></th>\n",
       "      <th></th>\n",
       "      <th></th>\n",
       "      <th></th>\n",
       "      <th></th>\n",
       "      <th></th>\n",
       "      <th></th>\n",
       "      <th></th>\n",
       "      <th></th>\n",
       "      <th></th>\n",
       "      <th></th>\n",
       "    </tr>\n",
       "  </thead>\n",
       "  <tbody>\n",
       "    <tr>\n",
       "      <th>GRAND TOTAL</th>\n",
       "      <td>13027.0</td>\n",
       "      <td>3035.0</td>\n",
       "      <td>3074.0</td>\n",
       "      <td>1026.0</td>\n",
       "      <td>1461.0</td>\n",
       "      <td>1128.0</td>\n",
       "      <td>512.0</td>\n",
       "      <td>750.0</td>\n",
       "      <td>515.0</td>\n",
       "      <td>388.0</td>\n",
       "      <td>...</td>\n",
       "      <td>108.0</td>\n",
       "      <td>8.0</td>\n",
       "      <td>56.0</td>\n",
       "      <td>30.0</td>\n",
       "      <td>35.0</td>\n",
       "      <td>34.0</td>\n",
       "      <td>7.0</td>\n",
       "      <td>596.0</td>\n",
       "      <td>6.0</td>\n",
       "      <td>1.0</td>\n",
       "    </tr>\n",
       "    <tr>\n",
       "      <th>COGNIZANT</th>\n",
       "      <td>3289.0</td>\n",
       "      <td>836.0</td>\n",
       "      <td>671.0</td>\n",
       "      <td>328.0</td>\n",
       "      <td>309.0</td>\n",
       "      <td>324.0</td>\n",
       "      <td>130.0</td>\n",
       "      <td>206.0</td>\n",
       "      <td>166.0</td>\n",
       "      <td>143.0</td>\n",
       "      <td>...</td>\n",
       "      <td>33.0</td>\n",
       "      <td>0.0</td>\n",
       "      <td>25.0</td>\n",
       "      <td>20.0</td>\n",
       "      <td>13.0</td>\n",
       "      <td>8.0</td>\n",
       "      <td>6.0</td>\n",
       "      <td>9.0</td>\n",
       "      <td>0.0</td>\n",
       "      <td>1.0</td>\n",
       "    </tr>\n",
       "    <tr>\n",
       "      <th>INFOSYS</th>\n",
       "      <td>2200.0</td>\n",
       "      <td>595.0</td>\n",
       "      <td>449.0</td>\n",
       "      <td>211.0</td>\n",
       "      <td>202.0</td>\n",
       "      <td>238.0</td>\n",
       "      <td>102.0</td>\n",
       "      <td>153.0</td>\n",
       "      <td>92.0</td>\n",
       "      <td>91.0</td>\n",
       "      <td>...</td>\n",
       "      <td>16.0</td>\n",
       "      <td>3.0</td>\n",
       "      <td>6.0</td>\n",
       "      <td>7.0</td>\n",
       "      <td>5.0</td>\n",
       "      <td>6.0</td>\n",
       "      <td>3.0</td>\n",
       "      <td>0.0</td>\n",
       "      <td>0.0</td>\n",
       "      <td>0.0</td>\n",
       "    </tr>\n",
       "    <tr>\n",
       "      <th>ACCENTURE</th>\n",
       "      <td>1834.0</td>\n",
       "      <td>520.0</td>\n",
       "      <td>325.0</td>\n",
       "      <td>197.0</td>\n",
       "      <td>178.0</td>\n",
       "      <td>181.0</td>\n",
       "      <td>98.0</td>\n",
       "      <td>141.0</td>\n",
       "      <td>80.0</td>\n",
       "      <td>75.0</td>\n",
       "      <td>...</td>\n",
       "      <td>0.0</td>\n",
       "      <td>0.0</td>\n",
       "      <td>0.0</td>\n",
       "      <td>3.0</td>\n",
       "      <td>0.0</td>\n",
       "      <td>1.0</td>\n",
       "      <td>0.0</td>\n",
       "      <td>0.0</td>\n",
       "      <td>0.0</td>\n",
       "      <td>0.0</td>\n",
       "    </tr>\n",
       "    <tr>\n",
       "      <th>WIPRO</th>\n",
       "      <td>1084.0</td>\n",
       "      <td>337.0</td>\n",
       "      <td>220.0</td>\n",
       "      <td>114.0</td>\n",
       "      <td>106.0</td>\n",
       "      <td>104.0</td>\n",
       "      <td>48.0</td>\n",
       "      <td>56.0</td>\n",
       "      <td>40.0</td>\n",
       "      <td>28.0</td>\n",
       "      <td>...</td>\n",
       "      <td>2.0</td>\n",
       "      <td>0.0</td>\n",
       "      <td>6.0</td>\n",
       "      <td>0.0</td>\n",
       "      <td>2.0</td>\n",
       "      <td>2.0</td>\n",
       "      <td>0.0</td>\n",
       "      <td>0.0</td>\n",
       "      <td>0.0</td>\n",
       "      <td>0.0</td>\n",
       "    </tr>\n",
       "    <tr>\n",
       "      <th>...</th>\n",
       "      <td>...</td>\n",
       "      <td>...</td>\n",
       "      <td>...</td>\n",
       "      <td>...</td>\n",
       "      <td>...</td>\n",
       "      <td>...</td>\n",
       "      <td>...</td>\n",
       "      <td>...</td>\n",
       "      <td>...</td>\n",
       "      <td>...</td>\n",
       "      <td>...</td>\n",
       "      <td>...</td>\n",
       "      <td>...</td>\n",
       "      <td>...</td>\n",
       "      <td>...</td>\n",
       "      <td>...</td>\n",
       "      <td>...</td>\n",
       "      <td>...</td>\n",
       "      <td>...</td>\n",
       "      <td>...</td>\n",
       "      <td>...</td>\n",
       "    </tr>\n",
       "    <tr>\n",
       "      <th>BOSCH LIMITED</th>\n",
       "      <td>1.0</td>\n",
       "      <td>0.0</td>\n",
       "      <td>0.0</td>\n",
       "      <td>1.0</td>\n",
       "      <td>0.0</td>\n",
       "      <td>0.0</td>\n",
       "      <td>0.0</td>\n",
       "      <td>0.0</td>\n",
       "      <td>0.0</td>\n",
       "      <td>0.0</td>\n",
       "      <td>...</td>\n",
       "      <td>0.0</td>\n",
       "      <td>0.0</td>\n",
       "      <td>0.0</td>\n",
       "      <td>0.0</td>\n",
       "      <td>0.0</td>\n",
       "      <td>0.0</td>\n",
       "      <td>0.0</td>\n",
       "      <td>0.0</td>\n",
       "      <td>0.0</td>\n",
       "      <td>0.0</td>\n",
       "    </tr>\n",
       "    <tr>\n",
       "      <th>NEULAND LABS</th>\n",
       "      <td>1.0</td>\n",
       "      <td>0.0</td>\n",
       "      <td>0.0</td>\n",
       "      <td>0.0</td>\n",
       "      <td>0.0</td>\n",
       "      <td>0.0</td>\n",
       "      <td>0.0</td>\n",
       "      <td>0.0</td>\n",
       "      <td>1.0</td>\n",
       "      <td>0.0</td>\n",
       "      <td>...</td>\n",
       "      <td>0.0</td>\n",
       "      <td>0.0</td>\n",
       "      <td>0.0</td>\n",
       "      <td>0.0</td>\n",
       "      <td>0.0</td>\n",
       "      <td>0.0</td>\n",
       "      <td>0.0</td>\n",
       "      <td>0.0</td>\n",
       "      <td>0.0</td>\n",
       "      <td>0.0</td>\n",
       "    </tr>\n",
       "    <tr>\n",
       "      <th>NOKIA SIEMENS\\nNETWORKS - GET PROGRAM</th>\n",
       "      <td>1.0</td>\n",
       "      <td>1.0</td>\n",
       "      <td>0.0</td>\n",
       "      <td>0.0</td>\n",
       "      <td>0.0</td>\n",
       "      <td>0.0</td>\n",
       "      <td>0.0</td>\n",
       "      <td>0.0</td>\n",
       "      <td>0.0</td>\n",
       "      <td>0.0</td>\n",
       "      <td>...</td>\n",
       "      <td>0.0</td>\n",
       "      <td>0.0</td>\n",
       "      <td>0.0</td>\n",
       "      <td>0.0</td>\n",
       "      <td>0.0</td>\n",
       "      <td>0.0</td>\n",
       "      <td>0.0</td>\n",
       "      <td>0.0</td>\n",
       "      <td>0.0</td>\n",
       "      <td>0.0</td>\n",
       "    </tr>\n",
       "    <tr>\n",
       "      <th>NOVARTIES HEALTHCARE</th>\n",
       "      <td>1.0</td>\n",
       "      <td>0.0</td>\n",
       "      <td>0.0</td>\n",
       "      <td>0.0</td>\n",
       "      <td>0.0</td>\n",
       "      <td>0.0</td>\n",
       "      <td>0.0</td>\n",
       "      <td>0.0</td>\n",
       "      <td>0.0</td>\n",
       "      <td>0.0</td>\n",
       "      <td>...</td>\n",
       "      <td>0.0</td>\n",
       "      <td>0.0</td>\n",
       "      <td>0.0</td>\n",
       "      <td>0.0</td>\n",
       "      <td>0.0</td>\n",
       "      <td>0.0</td>\n",
       "      <td>0.0</td>\n",
       "      <td>0.0</td>\n",
       "      <td>0.0</td>\n",
       "      <td>0.0</td>\n",
       "    </tr>\n",
       "    <tr>\n",
       "      <th>MOBIS TECHNICAL CENTER OF INDIA</th>\n",
       "      <td>0.0</td>\n",
       "      <td>0.0</td>\n",
       "      <td>0.0</td>\n",
       "      <td>0.0</td>\n",
       "      <td>0.0</td>\n",
       "      <td>0.0</td>\n",
       "      <td>0.0</td>\n",
       "      <td>0.0</td>\n",
       "      <td>0.0</td>\n",
       "      <td>0.0</td>\n",
       "      <td>...</td>\n",
       "      <td>0.0</td>\n",
       "      <td>0.0</td>\n",
       "      <td>0.0</td>\n",
       "      <td>0.0</td>\n",
       "      <td>0.0</td>\n",
       "      <td>0.0</td>\n",
       "      <td>0.0</td>\n",
       "      <td>0.0</td>\n",
       "      <td>0.0</td>\n",
       "      <td>0.0</td>\n",
       "    </tr>\n",
       "  </tbody>\n",
       "</table>\n",
       "<p>506 rows × 21 columns</p>\n",
       "</div>"
      ],
      "text/plain": [
       "                                         TOTAL     ECE     CSE     EEE  \\\n",
       "Name of the Organization                                                 \n",
       "GRAND TOTAL                            13027.0  3035.0  3074.0  1026.0   \n",
       "COGNIZANT                               3289.0   836.0   671.0   328.0   \n",
       "INFOSYS                                 2200.0   595.0   449.0   211.0   \n",
       "ACCENTURE                               1834.0   520.0   325.0   197.0   \n",
       "WIPRO                                   1084.0   337.0   220.0   114.0   \n",
       "...                                        ...     ...     ...     ...   \n",
       "BOSCH LIMITED                              1.0     0.0     0.0     1.0   \n",
       "NEULAND LABS                               1.0     0.0     0.0     0.0   \n",
       "NOKIA SIEMENS\\nNETWORKS - GET PROGRAM      1.0     1.0     0.0     0.0   \n",
       "NOVARTIES HEALTHCARE                       1.0     0.0     0.0     0.0   \n",
       "MOBIS TECHNICAL CENTER OF INDIA            0.0     0.0     0.0     0.0   \n",
       "\n",
       "                                           IT    MECH   PROD  CIVIL   CHEM  \\\n",
       "Name of the Organization                                                     \n",
       "GRAND TOTAL                            1461.0  1128.0  512.0  750.0  515.0   \n",
       "COGNIZANT                               309.0   324.0  130.0  206.0  166.0   \n",
       "INFOSYS                                 202.0   238.0  102.0  153.0   92.0   \n",
       "ACCENTURE                               178.0   181.0   98.0  141.0   80.0   \n",
       "WIPRO                                   106.0   104.0   48.0   56.0   40.0   \n",
       "...                                       ...     ...    ...    ...    ...   \n",
       "BOSCH LIMITED                             0.0     0.0    0.0    0.0    0.0   \n",
       "NEULAND LABS                              0.0     0.0    0.0    0.0    1.0   \n",
       "NOKIA SIEMENS\\nNETWORKS - GET PROGRAM     0.0     0.0    0.0    0.0    0.0   \n",
       "NOVARTIES HEALTHCARE                      0.0     0.0    0.0    0.0    0.0   \n",
       "MOBIS TECHNICAL CENTER OF INDIA           0.0     0.0    0.0    0.0    0.0   \n",
       "\n",
       "                                       BIO- TECH  ...  MTech/ CSE  \\\n",
       "Name of the Organization                          ...               \n",
       "GRAND TOTAL                                388.0  ...       108.0   \n",
       "COGNIZANT                                  143.0  ...        33.0   \n",
       "INFOSYS                                     91.0  ...        16.0   \n",
       "ACCENTURE                                   75.0  ...         0.0   \n",
       "WIPRO                                       28.0  ...         2.0   \n",
       "...                                          ...  ...         ...   \n",
       "BOSCH LIMITED                                0.0  ...         0.0   \n",
       "NEULAND LABS                                 0.0  ...         0.0   \n",
       "NOKIA SIEMENS\\nNETWORKS - GET PROGRAM        0.0  ...         0.0   \n",
       "NOVARTIES HEALTHCARE                         0.0  ...         0.0   \n",
       "MOBIS TECHNICAL CENTER OF INDIA              0.0  ...         0.0   \n",
       "\n",
       "                                       MTech/ CNIS  M.E/ ECE  ME / VLSI  \\\n",
       "Name of the Organization                                                  \n",
       "GRAND TOTAL                                    8.0      56.0       30.0   \n",
       "COGNIZANT                                      0.0      25.0       20.0   \n",
       "INFOSYS                                        3.0       6.0        7.0   \n",
       "ACCENTURE                                      0.0       0.0        3.0   \n",
       "WIPRO                                          0.0       6.0        0.0   \n",
       "...                                            ...       ...        ...   \n",
       "BOSCH LIMITED                                  0.0       0.0        0.0   \n",
       "NEULAND LABS                                   0.0       0.0        0.0   \n",
       "NOKIA SIEMENS\\nNETWORKS - GET PROGRAM          0.0       0.0        0.0   \n",
       "NOVARTIES HEALTHCARE                           0.0       0.0        0.0   \n",
       "MOBIS TECHNICAL CENTER OF INDIA                0.0       0.0        0.0   \n",
       "\n",
       "                                       M.E/ EEE  M.E/\\nCad/Cam  ME/ THERMAL  \\\n",
       "Name of the Organization                                                      \n",
       "GRAND TOTAL                                35.0           34.0          7.0   \n",
       "COGNIZANT                                  13.0            8.0          6.0   \n",
       "INFOSYS                                     5.0            6.0          3.0   \n",
       "ACCENTURE                                   0.0            1.0          0.0   \n",
       "WIPRO                                       2.0            2.0          0.0   \n",
       "...                                         ...            ...          ...   \n",
       "BOSCH LIMITED                               0.0            0.0          0.0   \n",
       "NEULAND LABS                                0.0            0.0          0.0   \n",
       "NOKIA SIEMENS\\nNETWORKS - GET PROGRAM       0.0            0.0          0.0   \n",
       "NOVARTIES HEALTHCARE                        0.0            0.0          0.0   \n",
       "MOBIS TECHNICAL CENTER OF INDIA             0.0            0.0          0.0   \n",
       "\n",
       "                                         MBA  ME/ CIVIL  ME/ Stru  \n",
       "Name of the Organization                                           \n",
       "GRAND TOTAL                            596.0        6.0       1.0  \n",
       "COGNIZANT                                9.0        0.0       1.0  \n",
       "INFOSYS                                  0.0        0.0       0.0  \n",
       "ACCENTURE                                0.0        0.0       0.0  \n",
       "WIPRO                                    0.0        0.0       0.0  \n",
       "...                                      ...        ...       ...  \n",
       "BOSCH LIMITED                            0.0        0.0       0.0  \n",
       "NEULAND LABS                             0.0        0.0       0.0  \n",
       "NOKIA SIEMENS\\nNETWORKS - GET PROGRAM    0.0        0.0       0.0  \n",
       "NOVARTIES HEALTHCARE                     0.0        0.0       0.0  \n",
       "MOBIS TECHNICAL CENTER OF INDIA          0.0        0.0       0.0  \n",
       "\n",
       "[506 rows x 21 columns]"
      ]
     },
     "execution_count": 105,
     "metadata": {},
     "output_type": "execute_result"
    }
   ],
   "source": [
    "pm.sort_values(by='TOTAL',ascending=False)"
   ]
  },
  {
   "cell_type": "markdown",
   "id": "endangered-bunny",
   "metadata": {},
   "source": [
    "# Exporting the merged dataset"
   ]
  },
  {
   "cell_type": "code",
   "execution_count": 100,
   "id": "therapeutic-vertical",
   "metadata": {},
   "outputs": [],
   "source": [
    "#pm.to_csv('cleaned/11yrsmerged_recruitmentwise.csv')"
   ]
  },
  {
   "cell_type": "code",
   "execution_count": null,
   "id": "smoking-discipline",
   "metadata": {},
   "outputs": [],
   "source": []
  }
 ],
 "metadata": {
  "kernelspec": {
   "display_name": "Python 3",
   "language": "python",
   "name": "python3"
  },
  "language_info": {
   "codemirror_mode": {
    "name": "ipython",
    "version": 3
   },
   "file_extension": ".py",
   "mimetype": "text/x-python",
   "name": "python",
   "nbconvert_exporter": "python",
   "pygments_lexer": "ipython3",
   "version": "3.8.3"
  }
 },
 "nbformat": 4,
 "nbformat_minor": 5
}
